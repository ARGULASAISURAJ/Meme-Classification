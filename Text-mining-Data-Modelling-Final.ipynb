{
 "cells": [
  {
   "cell_type": "markdown",
   "metadata": {},
   "source": [
    " <h1><center>Text Analytics Project </center></h1>\n",
    " <h1><center>Memes Classification [Sarcasam,Hate,Category] </center></h1>"
   ]
  },
  {
   "cell_type": "markdown",
   "metadata": {},
   "source": [
    "<h1>Table of contents</h1>\n",
    "\n",
    "<div class=\"alert alert-block alert-info\" style=\"margin-top: 20px\">\n",
    "    <ol>\n",
    "        <li><a href=\"#Section_1\"> Importing Required Libraries and Data</a></li>\n",
    "        <li><a href=\"#Section_2\"> Models</a></li>\n",
    "        <li><a href=\"#Section_3\"> LSTM ON only TEXT - Sarcasm </a> </li>\n",
    "        <li><a href=\"#Section_4\"> LSTM ON only TEXT - Hate </a> </li>\n",
    "        <li><a href=\"#Section_5\"> LSTM ON only TEXT -  Category</a> </li>\n",
    "        <li><a href=\"#Section_6\"> Multimodal Classification </a> </li>\n",
    "        <li><a href=\"#Section_7\"> LSTM on text and MLP on classifier- Hate </a> </li>\n",
    "        <li><a href=\"#Section_8\"> LSTM on text and MLP on classifier - Sarcasm</a> </li>\n",
    "        <li><a href=\"#Section_9\"> LSTM on text and MLP on classifier - Category</a> </li>\n",
    "     </ol>\n",
    "</div>"
   ]
  },
  {
   "cell_type": "markdown",
   "metadata": {},
   "source": [
    "# Importing required libraries and data"
   ]
  },
  {
   "cell_type": "code",
   "execution_count": 119,
   "metadata": {},
   "outputs": [],
   "source": [
    "#importing requiresd libraries\n",
    "import pandas as pd\n",
    "import numpy as np\n",
    "import nltk\n",
    "import keras\n",
    "import gensim\n",
    "import seaborn as sns\n",
    "import matplotlib.pyplot as plt\n",
    "np.random.seed(41)\n",
    "\n",
    "from nltk.tokenize import regexp_tokenize\n",
    "from nltk.stem import WordNetLemmatizer\n",
    "from nltk.corpus import stopwords\n",
    "lemmatizer = WordNetLemmatizer()\n",
    "\n",
    "from tensorflow.keras.models import Sequential,Model\n",
    "from tensorflow.keras.layers import BatchNormalization, Conv2D, concatenate, MaxPooling2D, Activation, Dropout, Dense, Flatten,Input,LSTM,Input,GlobalMaxPooling1D,Flatten, LSTM\n",
    "from keras.utils import to_categorical\n",
    "from keras.preprocessing.text import Tokenizer\n",
    "from keras.preprocessing.sequence import pad_sequences\n",
    "from keras.layers.core import Activation, Dropout, Dense\n",
    "from keras.layers.embeddings import Embedding\n",
    "# from keras.layers.merge import Concatenate\n",
    "from keras.initializers import Constant\n",
    "\n",
    "from sklearn.metrics import accuracy_score, precision_score, recall_score,roc_auc_score,confusion_matrix, classification_report,multilabel_confusion_matrix,roc_curve\n",
    "from sklearn.preprocessing import LabelEncoder\n",
    "from sklearn.feature_extraction.text import CountVectorizer, TfidfVectorizer\n",
    "from sklearn.model_selection import train_test_split\n",
    "\n",
    "from gensim.models.doc2vec import Doc2Vec, TaggedDocument\n",
    "from gensim.models import KeyedVectors\n",
    "from gensim.models import Word2Vec\n",
    "\n",
    "from sklearn.model_selection import train_test_split\n",
    "from keras.utils import to_categorical\n",
    "from keras.preprocessing.text import Tokenizer\n",
    "from keras.preprocessing.sequence import pad_sequences\n",
    "from keras.models import Sequential\n",
    "from keras.layers.core import Activation, Dropout, Dense\n",
    "from keras.layers import Input,GlobalMaxPooling1D,Flatten, LSTM\n",
    "from keras.layers.embeddings import Embedding\n",
    "from keras.layers.merge import concatenate\n",
    "from keras.initializers import Constant\n",
    "from sklearn import metrics\n",
    "from sklearn.metrics import classification_report,confusion_matrix,multilabel_confusion_matrix\n",
    "import numpy as np\n",
    "from sklearn.metrics import confusion_matrix\n",
    "from keras.layers import LSTM\n",
    "from keras.layers import BatchNormalization,Flatten, Dense\n",
    "import keras\n"
   ]
  },
  {
   "cell_type": "code",
   "execution_count": 2,
   "metadata": {},
   "outputs": [],
   "source": [
    "# df_train_test=pd.read_csv(\"C:/Users/saisu/Desktop/Memes-classification/Labels/Final_df.csv\")#,encoding='utf8')\n",
    "#revised cleaning\n",
    "df_train_test=pd.read_csv(\"C:/Users/saisu/Desktop/Memes-classification/Labels/final_dataframe.csv\")#,encoding='utf8')go"
   ]
  },
  {
   "cell_type": "code",
   "execution_count": 3,
   "metadata": {},
   "outputs": [
    {
     "data": {
      "text/html": [
       "<div>\n",
       "<style scoped>\n",
       "    .dataframe tbody tr th:only-of-type {\n",
       "        vertical-align: middle;\n",
       "    }\n",
       "\n",
       "    .dataframe tbody tr th {\n",
       "        vertical-align: top;\n",
       "    }\n",
       "\n",
       "    .dataframe thead th {\n",
       "        text-align: right;\n",
       "    }\n",
       "</style>\n",
       "<table border=\"1\" class=\"dataframe\">\n",
       "  <thead>\n",
       "    <tr style=\"text-align: right;\">\n",
       "      <th></th>\n",
       "      <th>Unnamed: 0</th>\n",
       "      <th>Unnamed: 0.1</th>\n",
       "      <th>index</th>\n",
       "      <th>Image_id</th>\n",
       "      <th>Hate_label</th>\n",
       "      <th>FB_text</th>\n",
       "      <th>google_raw_text</th>\n",
       "      <th>label_list</th>\n",
       "      <th>object_list</th>\n",
       "      <th>Semi_cleaned_text</th>\n",
       "      <th>Sarcasm_label</th>\n",
       "      <th>Category</th>\n",
       "    </tr>\n",
       "  </thead>\n",
       "  <tbody>\n",
       "    <tr>\n",
       "      <th>0</th>\n",
       "      <td>0</td>\n",
       "      <td>0</td>\n",
       "      <td>0</td>\n",
       "      <td>42953.png</td>\n",
       "      <td>0</td>\n",
       "      <td>its their character not their color that matters</td>\n",
       "      <td>its their character\\nnọt their color\\nthat mat...</td>\n",
       "      <td>['Photo caption', 'Forehead', 'Internet meme',...</td>\n",
       "      <td>['Person', 'Person', 'Clothing']</td>\n",
       "      <td>its their character not their color that matters</td>\n",
       "      <td>0</td>\n",
       "      <td>3</td>\n",
       "    </tr>\n",
       "    <tr>\n",
       "      <th>1</th>\n",
       "      <td>1</td>\n",
       "      <td>1</td>\n",
       "      <td>1</td>\n",
       "      <td>13894.png</td>\n",
       "      <td>0</td>\n",
       "      <td>putting bows on your pet</td>\n",
       "      <td>putting bows on your pet\\n</td>\n",
       "      <td>['Cat', 'Small to medium-sized cats', 'Mammal'...</td>\n",
       "      <td>['Cat', 'Bowtie', 'Cat']</td>\n",
       "      <td>puts bowing for your petting</td>\n",
       "      <td>0</td>\n",
       "      <td>5</td>\n",
       "    </tr>\n",
       "  </tbody>\n",
       "</table>\n",
       "</div>"
      ],
      "text/plain": [
       "   Unnamed: 0  Unnamed: 0.1  index   Image_id  Hate_label  \\\n",
       "0           0             0      0  42953.png           0   \n",
       "1           1             1      1  13894.png           0   \n",
       "\n",
       "                                            FB_text  \\\n",
       "0  its their character not their color that matters   \n",
       "1                          putting bows on your pet   \n",
       "\n",
       "                                     google_raw_text  \\\n",
       "0  its their character\\nnọt their color\\nthat mat...   \n",
       "1                         putting bows on your pet\\n   \n",
       "\n",
       "                                          label_list  \\\n",
       "0  ['Photo caption', 'Forehead', 'Internet meme',...   \n",
       "1  ['Cat', 'Small to medium-sized cats', 'Mammal'...   \n",
       "\n",
       "                        object_list  \\\n",
       "0  ['Person', 'Person', 'Clothing']   \n",
       "1          ['Cat', 'Bowtie', 'Cat']   \n",
       "\n",
       "                                  Semi_cleaned_text  Sarcasm_label  Category  \n",
       "0  its their character not their color that matters              0         3  \n",
       "1                      puts bowing for your petting              0         5  "
      ]
     },
     "execution_count": 3,
     "metadata": {},
     "output_type": "execute_result"
    }
   ],
   "source": [
    "df_train_test.head(2)"
   ]
  },
  {
   "cell_type": "code",
   "execution_count": 4,
   "metadata": {},
   "outputs": [
    {
     "data": {
      "text/plain": [
       "(4451, 12)"
      ]
     },
     "execution_count": 4,
     "metadata": {},
     "output_type": "execute_result"
    }
   ],
   "source": [
    "df_train_test.shape"
   ]
  },
  {
   "cell_type": "markdown",
   "metadata": {},
   "source": [
    "# Models"
   ]
  },
  {
   "cell_type": "markdown",
   "metadata": {},
   "source": [
    "### Preparing object and label  list"
   ]
  },
  {
   "cell_type": "code",
   "execution_count": 5,
   "metadata": {},
   "outputs": [],
   "source": [
    "#cleaning labels and objects list format\n",
    "df_train_test['label_list']=df_train_test['label_list'].str.replace(\"'\", \"\")\n",
    "df_train_test['label_list']=df_train_test['label_list'].str.replace('[', '')\n",
    "df_train_test['label_list']=df_train_test['label_list'].str.replace(']', '')"
   ]
  },
  {
   "cell_type": "code",
   "execution_count": 6,
   "metadata": {},
   "outputs": [],
   "source": [
    "df_train_test['object_list']=df_train_test['object_list'].str.replace(\"'\", \"\")\n",
    "df_train_test['object_list']=df_train_test['object_list'].str.replace('[', '')\n",
    "df_train_test['object_list']=df_train_test['object_list'].str.replace(']', '')"
   ]
  },
  {
   "cell_type": "code",
   "execution_count": 7,
   "metadata": {},
   "outputs": [],
   "source": [
    "#cconcatenating labels and objects list format\n",
    "df_train_test['label_objects']= df_train_test['label_list']+',' + df_train_test['object_list']"
   ]
  },
  {
   "cell_type": "code",
   "execution_count": 27,
   "metadata": {},
   "outputs": [
    {
     "data": {
      "text/html": [
       "<div>\n",
       "<style scoped>\n",
       "    .dataframe tbody tr th:only-of-type {\n",
       "        vertical-align: middle;\n",
       "    }\n",
       "\n",
       "    .dataframe tbody tr th {\n",
       "        vertical-align: top;\n",
       "    }\n",
       "\n",
       "    .dataframe thead th {\n",
       "        text-align: right;\n",
       "    }\n",
       "</style>\n",
       "<table border=\"1\" class=\"dataframe\">\n",
       "  <thead>\n",
       "    <tr style=\"text-align: right;\">\n",
       "      <th></th>\n",
       "      <th>Unnamed: 0</th>\n",
       "      <th>Unnamed: 0.1</th>\n",
       "      <th>index</th>\n",
       "      <th>Image_id</th>\n",
       "      <th>Hate_label</th>\n",
       "      <th>FB_text</th>\n",
       "      <th>google_raw_text</th>\n",
       "      <th>label_list</th>\n",
       "      <th>object_list</th>\n",
       "      <th>Semi_cleaned_text</th>\n",
       "      <th>Sarcasm_label</th>\n",
       "      <th>Category</th>\n",
       "      <th>label_objects</th>\n",
       "    </tr>\n",
       "  </thead>\n",
       "  <tbody>\n",
       "    <tr>\n",
       "      <th>0</th>\n",
       "      <td>0</td>\n",
       "      <td>0</td>\n",
       "      <td>0</td>\n",
       "      <td>42953.png</td>\n",
       "      <td>0</td>\n",
       "      <td>its their character not their color that matters</td>\n",
       "      <td>its their character\\nnọt their color\\nthat mat...</td>\n",
       "      <td>Photo caption, Forehead, Internet meme, Font, ...</td>\n",
       "      <td>Person, Person, Clothing</td>\n",
       "      <td>its their character not their color that matters</td>\n",
       "      <td>0</td>\n",
       "      <td>3</td>\n",
       "      <td>Photo caption, Forehead, Internet meme, Font, ...</td>\n",
       "    </tr>\n",
       "  </tbody>\n",
       "</table>\n",
       "</div>"
      ],
      "text/plain": [
       "   Unnamed: 0  Unnamed: 0.1  index   Image_id  Hate_label  \\\n",
       "0           0             0      0  42953.png           0   \n",
       "\n",
       "                                            FB_text  \\\n",
       "0  its their character not their color that matters   \n",
       "\n",
       "                                     google_raw_text  \\\n",
       "0  its their character\\nnọt their color\\nthat mat...   \n",
       "\n",
       "                                          label_list  \\\n",
       "0  Photo caption, Forehead, Internet meme, Font, ...   \n",
       "\n",
       "                object_list                                 Semi_cleaned_text  \\\n",
       "0  Person, Person, Clothing  its their character not their color that matters   \n",
       "\n",
       "   Sarcasm_label  Category                                      label_objects  \n",
       "0              0         3  Photo caption, Forehead, Internet meme, Font, ...  "
      ]
     },
     "execution_count": 27,
     "metadata": {},
     "output_type": "execute_result"
    }
   ],
   "source": [
    "df_train_test.head(1)"
   ]
  },
  {
   "cell_type": "code",
   "execution_count": 9,
   "metadata": {},
   "outputs": [
    {
     "data": {
      "text/plain": [
       "829067"
      ]
     },
     "execution_count": 9,
     "metadata": {},
     "output_type": "execute_result"
    }
   ],
   "source": [
    "#loading the custom word2vec model trained on urban dictionary to get more accurate predictions\n",
    "fasttext_ud = KeyedVectors.load_word2vec_format('C:/Users/saisu/Downloads/ud_embeddings/ud_phrase.vec',binary=False)\n",
    "\n",
    "#fitting the corpus using fasttext_ud\n",
    "len(fasttext_ud.vectors)"
   ]
  },
  {
   "cell_type": "markdown",
   "metadata": {},
   "source": [
    "## LSTM ON only TEXT"
   ]
  },
  {
   "cell_type": "markdown",
   "metadata": {},
   "source": [
    "Choose LSTM because of sequential and dependent on previou state of the text"
   ]
  },
  {
   "cell_type": "code",
   "execution_count": 56,
   "metadata": {},
   "outputs": [],
   "source": [
    "#subset required fields\n",
    "df_final = df_train_test[['Semi_cleaned_text','Sarcasm_label','Hate_label','Category']]"
   ]
  },
  {
   "cell_type": "code",
   "execution_count": 29,
   "metadata": {},
   "outputs": [],
   "source": [
    "#metrics function for models \n",
    "def model2(classifier, features, labels):\n",
    "    predict_y = classifier.predict(features)\n",
    "    predict_y=np.argmax(predict_y,axis=1)\n",
    "    \n",
    "    #classification report\n",
    "    print(classification_report(labels,predict_y))\n",
    "    \n",
    "    #confusion matrix\n",
    "    cm=confusion_matrix(labels, predict_y)\n",
    "    \n",
    "    #plots\n",
    "    #ROC plot\n",
    "    fig, ax = plt.subplots(nrows=1, ncols=3,figsize=(30,5))\n",
    "    classes=np.unique(np.argmax(classifier.predict(features),axis=1))\n",
    "    for i in range(len(classes)):\n",
    "        fpr, tpr, thresholds = metrics.roc_curve(labels,  \n",
    "                               classifier.predict(features)[:,1])\n",
    "        ax[0].plot(fpr, tpr, lw=3, \n",
    "                  label='{0} (area={1:0.2f})'.format(classes[1], \n",
    "                                  metrics.auc(fpr, tpr))\n",
    "                   )\n",
    "    ax[0].plot([0,1], [0,1], color='navy', lw=3, linestyle='--')\n",
    "    ax[0].set(xlim=[-0.05,1.0], ylim=[0.0,1.05], \n",
    "              xlabel='False Positive Rate', \n",
    "              ylabel=\"True Positive Rate (Recall)\", \n",
    "              title=\"Receiver operating characteristic\")\n",
    "    ax[0].legend(loc=\"lower right\")\n",
    "    ax[0].grid(True)\n",
    "\n",
    "    ## Plot precision-recall curve\n",
    "    for i in range(len(classes)):\n",
    "        precision, recall, thresholds = metrics.precision_recall_curve(\n",
    "                     labels, classifier.predict(features)[:,1])\n",
    "        ax[1].plot(recall, precision, lw=3, \n",
    "                   label='{0} (area={1:0.2f})'.format(classes[1], \n",
    "                                      metrics.auc(recall, precision))\n",
    "                  )\n",
    "    ax[1].set(xlim=[0.0,1.05], ylim=[0.0,1.05], xlabel='Recall', \n",
    "              ylabel=\"Precision\", title=\"Precision-Recall curve\")\n",
    "    ax[1].legend(loc=\"best\")\n",
    "    ax[1].grid(True)\n",
    "    \n",
    "    ## plot confusion matrix\n",
    "    sns.heatmap(cm/np.sum(cm), annot=True, fmt='.2%', ax=ax[2], cmap=plt.cm.Blues, \n",
    "            cbar=False)\n",
    "    ax[2].set(xlabel=\"Pred\", ylabel=\"True\", xticklabels=classes,\n",
    "       yticklabels=classes, title=\"Confusion matrix\")\n",
    "    plt.yticks(rotation=0)\n",
    "    plt.xticks(rotation=90)\n",
    "    plt.show()\n",
    "    return"
   ]
  },
  {
   "cell_type": "markdown",
   "metadata": {},
   "source": [
    "## Sarcasm Model"
   ]
  },
  {
   "cell_type": "code",
   "execution_count": 37,
   "metadata": {},
   "outputs": [],
   "source": [
    "#train-test split\n",
    "\n",
    "X_train,X_test,y_train,y_test = train_test_split(df_final['Semi_cleaned_text'],df_final.iloc[:,1:2],test_size = 0.25,stratify=df_final.iloc[:,1:2], shuffle = True)\n",
    "\n",
    "#converting to catrgorical\n",
    "train_labels = to_categorical(np.asarray(y_train))\n",
    "test_labels  = to_categorical(np.asarray(y_test))"
   ]
  },
  {
   "cell_type": "code",
   "execution_count": 38,
   "metadata": {},
   "outputs": [],
   "source": [
    "## creating tokenizers\n",
    "X_train_list = X_train.to_list()\n",
    "\n",
    "tokenizer = Tokenizer(num_words=8000)\n",
    "tokenizer.fit_on_texts(X_train_list)\n",
    "\n",
    "vocab_size = len(tokenizer.word_index) + 1\n",
    "\n",
    "X_train = tokenizer.texts_to_sequences(X_train)\n",
    "X_test = tokenizer.texts_to_sequences(X_test)\n",
    "maxlen = 20 #word length max in memes\n",
    "X_train = pad_sequences(X_train, padding='post', maxlen=maxlen)\n",
    "X_test = pad_sequences(X_test, padding='post', maxlen=maxlen)\n"
   ]
  },
  {
   "cell_type": "code",
   "execution_count": 39,
   "metadata": {},
   "outputs": [],
   "source": [
    "#urban dictionar word2vec\n",
    "word_dic = {}\n",
    "for key in fasttext_ud.vocab:\n",
    "    word_dic[key] = fasttext_ud.get_vector(key)\n",
    "\n",
    "embedding_matrix = np.zeros((vocab_size, 300)) # vector of 300 \n",
    "for word, index in tokenizer.word_index.items():\n",
    "    embedding_vector = word_dic.get(word)\n",
    "    if embedding_vector is not None:\n",
    "        embedding_matrix[index] = embedding_vector\n",
    "embedding_matrix.shape"
   ]
  },
  {
   "cell_type": "code",
   "execution_count": 40,
   "metadata": {},
   "outputs": [
    {
     "name": "stderr",
     "output_type": "stream",
     "text": [
      "c:\\python_3.7\\lib\\site-packages\\ipykernel_launcher.py:3: UserWarning: Update your `LSTM` call to the Keras 2 API: `LSTM(activation=\"relu\", return_sequences=True, units=16)`\n",
      "  This is separate from the ipykernel package so we can avoid doing imports until\n"
     ]
    },
    {
     "name": "stdout",
     "output_type": "stream",
     "text": [
      "Model: \"sequential_11\"\n",
      "_________________________________________________________________\n",
      "Layer (type)                 Output Shape              Param #   \n",
      "=================================================================\n",
      "embedding_12 (Embedding)     (None, 20, 300)           1967100   \n",
      "_________________________________________________________________\n",
      "lstm_11 (LSTM)               (None, 20, 16)            20288     \n",
      "_________________________________________________________________\n",
      "dropout_21 (Dropout)         (None, 20, 16)            0         \n",
      "_________________________________________________________________\n",
      "batch_normalization_11 (Batc (None, 20, 16)            64        \n",
      "_________________________________________________________________\n",
      "flatten_11 (Flatten)         (None, 320)               0         \n",
      "_________________________________________________________________\n",
      "dropout_22 (Dropout)         (None, 320)               0         \n",
      "_________________________________________________________________\n",
      "dense_11 (Dense)             (None, 2)                 642       \n",
      "=================================================================\n",
      "Total params: 1,988,094\n",
      "Trainable params: 20,962\n",
      "Non-trainable params: 1,967,132\n",
      "_________________________________________________________________\n",
      "None\n"
     ]
    }
   ],
   "source": [
    "#model def\n",
    "model = Sequential()\n",
    "model.add(Embedding(vocab_size,300,trainable = False,weights=[embedding_matrix],input_length=20))\n",
    "model.add(LSTM(output_dim=16,activation='relu', return_sequences=True))\n",
    "model.add(Dropout(0.5))\n",
    "model.add(BatchNormalization())\n",
    "model.add(Flatten())\n",
    "model.add(Dropout(0.5))\n",
    "model.add(Dense(2, activation='softmax'))\n",
    "print(model.summary())\n"
   ]
  },
  {
   "cell_type": "code",
   "execution_count": 41,
   "metadata": {},
   "outputs": [
    {
     "name": "stdout",
     "output_type": "stream",
     "text": [
      "Train on 2670 samples, validate on 668 samples\n",
      "Epoch 1/10\n",
      "2670/2670 [==============================] - 2s 639us/step - loss: 0.8194 - accuracy: 0.4794 - val_loss: 0.5607 - val_accuracy: 0.4251\n",
      "Epoch 2/10\n",
      "2670/2670 [==============================] - 1s 441us/step - loss: 0.6332 - accuracy: 0.4835 - val_loss: 0.5507 - val_accuracy: 0.5000\n",
      "Epoch 3/10\n",
      "2670/2670 [==============================] - 1s 478us/step - loss: 0.5660 - accuracy: 0.5191 - val_loss: 0.5304 - val_accuracy: 0.5299\n",
      "Epoch 4/10\n",
      "2670/2670 [==============================] - 1s 484us/step - loss: 0.5430 - accuracy: 0.5273 - val_loss: 0.5225 - val_accuracy: 0.5030\n",
      "Epoch 5/10\n",
      "2670/2670 [==============================] - 1s 525us/step - loss: 0.5128 - accuracy: 0.5622 - val_loss: 0.5197 - val_accuracy: 0.4790\n",
      "Epoch 6/10\n",
      "2670/2670 [==============================] - 1s 497us/step - loss: 0.4851 - accuracy: 0.6109 - val_loss: 0.5464 - val_accuracy: 0.6168\n",
      "Epoch 7/10\n",
      "2670/2670 [==============================] - 1s 459us/step - loss: 0.4754 - accuracy: 0.6236 - val_loss: 0.5449 - val_accuracy: 0.6347\n",
      "Epoch 8/10\n",
      "2670/2670 [==============================] - 1s 448us/step - loss: 0.4527 - accuracy: 0.6685 - val_loss: 0.5399 - val_accuracy: 0.6108\n",
      "Epoch 9/10\n",
      "2670/2670 [==============================] - 1s 447us/step - loss: 0.4381 - accuracy: 0.6835 - val_loss: 0.5690 - val_accuracy: 0.5150\n",
      "Epoch 10/10\n",
      "2670/2670 [==============================] - 1s 449us/step - loss: 0.4362 - accuracy: 0.6989 - val_loss: 0.5824 - val_accuracy: 0.6123\n"
     ]
    },
    {
     "data": {
      "text/plain": [
       "<keras.callbacks.callbacks.History at 0x1b387693388>"
      ]
     },
     "execution_count": 41,
     "metadata": {},
     "output_type": "execute_result"
    }
   ],
   "source": [
    "#model compile and fit\n",
    "model.compile(loss='categorical_crossentropy', optimizer='adam',metrics=['accuracy'])\n",
    "class_weight = {0: 0.50,1: 1.5}\n",
    "model.fit(X_train, train_labels, batch_size=16, epochs=10,validation_split=0.2,class_weight=class_weight)"
   ]
  },
  {
   "cell_type": "code",
   "execution_count": 43,
   "metadata": {},
   "outputs": [
    {
     "name": "stdout",
     "output_type": "stream",
     "text": [
      "              precision    recall  f1-score   support\n",
      "\n",
      "           0       0.75      0.57      0.65       717\n",
      "           1       0.46      0.66      0.54       396\n",
      "\n",
      "    accuracy                           0.60      1113\n",
      "   macro avg       0.61      0.62      0.60      1113\n",
      "weighted avg       0.65      0.60      0.61      1113\n",
      "\n"
     ]
    },
    {
     "data": {
      "image/png": "[encoded data removed]",
      "text/plain": [
       "<Figure size 2160x360 with 3 Axes>"
      ]
     },
     "metadata": {
      "needs_background": "light"
     },
     "output_type": "display_data"
    },
    {
     "name": "stdout",
     "output_type": "stream",
     "text": [
      "1113/1113 [==============================] - 0s 70us/step\n"
     ]
    }
   ],
   "source": [
    "## LSTM on text- Sarcasam -metrics\n",
    "\n",
    "model2(classifier=model, features=X_test, labels=y_test)\n",
    "model.evaluate(X_test,test_labels)\n",
    "predicted = model.predict(X_test)\n"
   ]
  },
  {
   "cell_type": "markdown",
   "metadata": {},
   "source": [
    "## Hate Model"
   ]
  },
  {
   "cell_type": "code",
   "execution_count": 60,
   "metadata": {},
   "outputs": [],
   "source": [
    "#train-test split\n",
    "\n",
    "X_train,X_test,y_train,y_test = train_test_split(df_final['Semi_cleaned_text'],df_final.iloc[:,2:3],test_size = 0.25,stratify=df_final.iloc[:,1:2], shuffle = True)\n",
    "\n",
    "#converting to catrgorical\n",
    "train_labels = to_categorical(np.asarray(y_train))\n",
    "test_labels  = to_categorical(np.asarray(y_test))"
   ]
  },
  {
   "cell_type": "code",
   "execution_count": 61,
   "metadata": {},
   "outputs": [],
   "source": [
    "## creating tokenizers\n",
    "X_train_list = X_train.to_list()\n",
    "\n",
    "tokenizer = Tokenizer(num_words=8000)\n",
    "tokenizer.fit_on_texts(X_train_list)\n",
    "\n",
    "vocab_size = len(tokenizer.word_index) + 1\n",
    "\n",
    "X_train = tokenizer.texts_to_sequences(X_train)\n",
    "X_test = tokenizer.texts_to_sequences(X_test)\n",
    "maxlen = 20 #word length\n",
    "X_train = pad_sequences(X_train, padding='post', maxlen=maxlen)\n",
    "X_test = pad_sequences(X_test, padding='post', maxlen=maxlen)\n"
   ]
  },
  {
   "cell_type": "code",
   "execution_count": 62,
   "metadata": {},
   "outputs": [
    {
     "data": {
      "text/plain": [
       "(6539, 300)"
      ]
     },
     "execution_count": 62,
     "metadata": {},
     "output_type": "execute_result"
    }
   ],
   "source": [
    "#urban dictionar word2vec\n",
    "word_dic = {}\n",
    "for key in fasttext_ud.vocab:\n",
    "    word_dic[key] = fasttext_ud.get_vector(key)\n",
    "\n",
    "embedding_matrix = np.zeros((vocab_size, 300))\n",
    "for word, index in tokenizer.word_index.items():\n",
    "    embedding_vector = word_dic.get(word)\n",
    "    if embedding_vector is not None:\n",
    "        embedding_matrix[index] = embedding_vector\n",
    "embedding_matrix.shape"
   ]
  },
  {
   "cell_type": "code",
   "execution_count": 63,
   "metadata": {},
   "outputs": [
    {
     "name": "stdout",
     "output_type": "stream",
     "text": [
      "Model: \"sequential_13\"\n",
      "_________________________________________________________________\n",
      "Layer (type)                 Output Shape              Param #   \n",
      "=================================================================\n",
      "embedding_14 (Embedding)     (None, 20, 300)           1961700   \n",
      "_________________________________________________________________\n",
      "lstm_13 (LSTM)               (None, 20, 16)            20288     \n",
      "_________________________________________________________________\n",
      "dropout_25 (Dropout)         (None, 20, 16)            0         \n",
      "_________________________________________________________________\n",
      "batch_normalization_13 (Batc (None, 20, 16)            64        \n",
      "_________________________________________________________________\n",
      "flatten_13 (Flatten)         (None, 320)               0         \n",
      "_________________________________________________________________\n",
      "dropout_26 (Dropout)         (None, 320)               0         \n",
      "_________________________________________________________________\n",
      "dense_13 (Dense)             (None, 2)                 642       \n",
      "=================================================================\n",
      "Total params: 1,982,694\n",
      "Trainable params: 20,962\n",
      "Non-trainable params: 1,961,732\n",
      "_________________________________________________________________\n",
      "None\n"
     ]
    },
    {
     "name": "stderr",
     "output_type": "stream",
     "text": [
      "c:\\python_3.7\\lib\\site-packages\\ipykernel_launcher.py:4: UserWarning: Update your `LSTM` call to the Keras 2 API: `LSTM(activation=\"relu\", return_sequences=True, units=16)`\n",
      "  after removing the cwd from sys.path.\n"
     ]
    }
   ],
   "source": [
    "#model def\n",
    "model = Sequential()\n",
    "model.add(Embedding(vocab_size,300,trainable = False,weights=[embedding_matrix],input_length=20))\n",
    "model.add(LSTM(output_dim=16,activation='relu', return_sequences=True))\n",
    "model.add(Dropout(0.5))\n",
    "model.add(BatchNormalization())\n",
    "model.add(Flatten())\n",
    "model.add(Dropout(0.5))\n",
    "model.add(Dense(2, activation='softmax'))\n",
    "print(model.summary())\n"
   ]
  },
  {
   "cell_type": "code",
   "execution_count": 64,
   "metadata": {},
   "outputs": [
    {
     "name": "stdout",
     "output_type": "stream",
     "text": [
      "Train on 2670 samples, validate on 668 samples\n",
      "Epoch 1/10\n",
      "2670/2670 [==============================] - 2s 599us/step - loss: 0.8063 - accuracy: 0.4524 - val_loss: 0.5751 - val_accuracy: 0.3563\n",
      "Epoch 2/10\n",
      "2670/2670 [==============================] - 1s 401us/step - loss: 0.5818 - accuracy: 0.4127 - val_loss: 0.5499 - val_accuracy: 0.3563\n",
      "Epoch 3/10\n",
      "2670/2670 [==============================] - 1s 419us/step - loss: 0.5588 - accuracy: 0.4311 - val_loss: 0.5309 - val_accuracy: 0.3563\n",
      "Epoch 4/10\n",
      "2670/2670 [==============================] - 1s 412us/step - loss: 0.5348 - accuracy: 0.4625 - val_loss: 0.5179 - val_accuracy: 0.4626\n",
      "Epoch 5/10\n",
      "2670/2670 [==============================] - 1s 413us/step - loss: 0.5276 - accuracy: 0.4933 - val_loss: 0.5167 - val_accuracy: 0.5090\n",
      "Epoch 6/10\n",
      "2670/2670 [==============================] - 1s 469us/step - loss: 0.5280 - accuracy: 0.5064 - val_loss: 0.5204 - val_accuracy: 0.5419\n",
      "Epoch 7/10\n",
      "2670/2670 [==============================] - 1s 409us/step - loss: 0.5168 - accuracy: 0.5352 - val_loss: 0.5208 - val_accuracy: 0.5778\n",
      "Epoch 8/10\n",
      "2670/2670 [==============================] - 1s 419us/step - loss: 0.5037 - accuracy: 0.5963 - val_loss: 0.5214 - val_accuracy: 0.6302\n",
      "Epoch 9/10\n",
      "2670/2670 [==============================] - 1s 424us/step - loss: 0.4965 - accuracy: 0.5929 - val_loss: 0.5221 - val_accuracy: 0.5883\n",
      "Epoch 10/10\n",
      "2670/2670 [==============================] - 1s 420us/step - loss: 0.4754 - accuracy: 0.6382 - val_loss: 0.5335 - val_accuracy: 0.6332\n"
     ]
    },
    {
     "data": {
      "text/plain": [
       "<keras.callbacks.callbacks.History at 0x1b383682688>"
      ]
     },
     "execution_count": 64,
     "metadata": {},
     "output_type": "execute_result"
    }
   ],
   "source": [
    "#model compile and fit\n",
    "model.compile(loss='categorical_crossentropy', optimizer='adam',metrics=['accuracy'])\n",
    "class_weight = {0: 0.50,1: 1.5}\n",
    "model.fit(X_train, train_labels, batch_size=16, epochs=10,validation_split=0.2,class_weight=class_weight)"
   ]
  },
  {
   "cell_type": "code",
   "execution_count": 65,
   "metadata": {},
   "outputs": [
    {
     "name": "stdout",
     "output_type": "stream",
     "text": [
      "              precision    recall  f1-score   support\n",
      "\n",
      "           0       0.77      0.72      0.75       729\n",
      "           1       0.53      0.60      0.56       384\n",
      "\n",
      "    accuracy                           0.68      1113\n",
      "   macro avg       0.65      0.66      0.65      1113\n",
      "weighted avg       0.69      0.68      0.68      1113\n",
      "\n"
     ]
    },
    {
     "data": {
      "image/png": "[encoded data removed]",
      "text/plain": [
       "<Figure size 2160x360 with 3 Axes>"
      ]
     },
     "metadata": {
      "needs_background": "light"
     },
     "output_type": "display_data"
    },
    {
     "name": "stdout",
     "output_type": "stream",
     "text": [
      "1113/1113 [==============================] - 0s 85us/step\n"
     ]
    }
   ],
   "source": [
    "## LSTM on text- Sarcasam\n",
    "\n",
    "model2(classifier=model, features=X_test, labels=y_test)\n",
    "model.evaluate(X_test,test_labels)\n",
    "predicted = model.predict(X_test)\n"
   ]
  },
  {
   "cell_type": "markdown",
   "metadata": {},
   "source": [
    "## LSTM on text- Category "
   ]
  },
  {
   "cell_type": "code",
   "execution_count": 79,
   "metadata": {},
   "outputs": [
    {
     "name": "stderr",
     "output_type": "stream",
     "text": [
      "c:\\python_3.7\\lib\\site-packages\\pandas\\core\\indexing.py:671: SettingWithCopyWarning: \n",
      "A value is trying to be set on a copy of a slice from a DataFrame\n",
      "\n",
      "See the caveats in the documentation: https://pandas.pydata.org/pandas-docs/stable/user_guide/indexing.html#returning-a-view-versus-a-copy\n",
      "  self._setitem_with_indexer(indexer, value)\n",
      "c:\\python_3.7\\lib\\site-packages\\ipykernel_launcher.py:2: SettingWithCopyWarning: \n",
      "A value is trying to be set on a copy of a slice from a DataFrame\n",
      "\n",
      "See the caveats in the documentation: https://pandas.pydata.org/pandas-docs/stable/user_guide/indexing.html#returning-a-view-versus-a-copy\n",
      "  \n"
     ]
    }
   ],
   "source": [
    "#train-test split\n",
    "df_final['Category'].loc[df_final['Category'] ==5] = 0\n",
    "X_train,X_test,y_train,y_test = train_test_split(df_final['Semi_cleaned_text'],df_final.iloc[:,3:4],test_size = 0.25,stratify=df_final.iloc[:,1:2], shuffle = True)\n",
    "\n",
    "#converting to catrgorical\n",
    "train_labels = to_categorical(np.asarray(y_train))\n",
    "test_labels  = to_categorical(np.asarray(y_test))"
   ]
  },
  {
   "cell_type": "code",
   "execution_count": 80,
   "metadata": {},
   "outputs": [],
   "source": [
    "## creating tokenizers\n",
    "\n",
    "X_train_list = X_train.to_list()\n",
    "\n",
    "tokenizer = Tokenizer(num_words=8000)\n",
    "tokenizer.fit_on_texts(X_train_list)\n",
    "\n",
    "vocab_size = len(tokenizer.word_index) + 1\n",
    "\n",
    "X_train = tokenizer.texts_to_sequences(X_train)\n",
    "X_test = tokenizer.texts_to_sequences(X_test)\n",
    "maxlen = 20\n",
    "X_train = pad_sequences(X_train, padding='post', maxlen=maxlen)\n",
    "X_test = pad_sequences(X_test, padding='post', maxlen=maxlen)"
   ]
  },
  {
   "cell_type": "code",
   "execution_count": 81,
   "metadata": {},
   "outputs": [
    {
     "data": {
      "text/plain": [
       "(6511, 300)"
      ]
     },
     "execution_count": 81,
     "metadata": {},
     "output_type": "execute_result"
    }
   ],
   "source": [
    "#urban dictionar word2vec\n",
    "word_dic = {}\n",
    "for key in fasttext_ud.vocab:\n",
    "    word_dic[key] = fasttext_ud.get_vector(key)\n",
    "\n",
    "embedding_matrix = np.zeros((vocab_size, 300))\n",
    "for word, index in tokenizer.word_index.items():\n",
    "    embedding_vector = word_dic.get(word)\n",
    "    if embedding_vector is not None:\n",
    "        embedding_matrix[index] = embedding_vector\n",
    "embedding_matrix.shape"
   ]
  },
  {
   "cell_type": "code",
   "execution_count": 82,
   "metadata": {},
   "outputs": [
    {
     "name": "stderr",
     "output_type": "stream",
     "text": [
      "c:\\python_3.7\\lib\\site-packages\\ipykernel_launcher.py:3: UserWarning: Update your `LSTM` call to the Keras 2 API: `LSTM(activation=\"relu\", return_sequences=True, units=16)`\n",
      "  This is separate from the ipykernel package so we can avoid doing imports until\n"
     ]
    },
    {
     "name": "stdout",
     "output_type": "stream",
     "text": [
      "Model: \"sequential_19\"\n",
      "_________________________________________________________________\n",
      "Layer (type)                 Output Shape              Param #   \n",
      "=================================================================\n",
      "embedding_20 (Embedding)     (None, 20, 300)           1953300   \n",
      "_________________________________________________________________\n",
      "lstm_19 (LSTM)               (None, 20, 16)            20288     \n",
      "_________________________________________________________________\n",
      "dropout_37 (Dropout)         (None, 20, 16)            0         \n",
      "_________________________________________________________________\n",
      "batch_normalization_19 (Batc (None, 20, 16)            64        \n",
      "_________________________________________________________________\n",
      "flatten_19 (Flatten)         (None, 320)               0         \n",
      "_________________________________________________________________\n",
      "dropout_38 (Dropout)         (None, 320)               0         \n",
      "_________________________________________________________________\n",
      "dense_19 (Dense)             (None, 5)                 1605      \n",
      "=================================================================\n",
      "Total params: 1,975,257\n",
      "Trainable params: 21,925\n",
      "Non-trainable params: 1,953,332\n",
      "_________________________________________________________________\n",
      "None\n"
     ]
    }
   ],
   "source": [
    "model = Sequential()\n",
    "model.add(Embedding(vocab_size,300,trainable = False,weights=[embedding_matrix],input_length=20))\n",
    "model.add(LSTM(output_dim=16,activation='relu', return_sequences=True))\n",
    "model.add(Dropout(0.5))\n",
    "model.add(BatchNormalization())\n",
    "model.add(Flatten())\n",
    "model.add(Dropout(0.5))\n",
    "model.add(Dense(5, activation='softmax'))\n",
    "print(model.summary())"
   ]
  },
  {
   "cell_type": "code",
   "execution_count": 83,
   "metadata": {},
   "outputs": [
    {
     "name": "stdout",
     "output_type": "stream",
     "text": [
      "Train on 2670 samples, validate on 668 samples\n",
      "Epoch 1/10\n",
      "2670/2670 [==============================] - 2s 573us/step - loss: 1.8202 - accuracy: 0.3599 - val_loss: 1.4328 - val_accuracy: 0.4910\n",
      "Epoch 2/10\n",
      "2670/2670 [==============================] - 1s 401us/step - loss: 1.4115 - accuracy: 0.4809 - val_loss: 1.3299 - val_accuracy: 0.5269\n",
      "Epoch 3/10\n",
      "2670/2670 [==============================] - 1s 408us/step - loss: 1.2749 - accuracy: 0.5431 - val_loss: 1.2236 - val_accuracy: 0.5569\n",
      "Epoch 4/10\n",
      "2670/2670 [==============================] - 1s 359us/step - loss: 1.1527 - accuracy: 0.5854 - val_loss: 1.0772 - val_accuracy: 0.6198\n",
      "Epoch 5/10\n",
      "2670/2670 [==============================] - 1s 365us/step - loss: 1.0516 - accuracy: 0.6333 - val_loss: 1.0137 - val_accuracy: 0.6617\n",
      "Epoch 6/10\n",
      "2670/2670 [==============================] - 1s 371us/step - loss: 1.0016 - accuracy: 0.6498 - val_loss: 0.9884 - val_accuracy: 0.6766\n",
      "Epoch 7/10\n",
      "2670/2670 [==============================] - 1s 387us/step - loss: 0.9562 - accuracy: 0.6753 - val_loss: 0.9901 - val_accuracy: 0.6841\n",
      "Epoch 8/10\n",
      "2670/2670 [==============================] - 1s 463us/step - loss: 0.9105 - accuracy: 0.6876 - val_loss: 0.9869 - val_accuracy: 0.6826\n",
      "Epoch 9/10\n",
      "2670/2670 [==============================] - 1s 465us/step - loss: 0.9009 - accuracy: 0.6891 - val_loss: 1.0203 - val_accuracy: 0.6901\n",
      "Epoch 10/10\n",
      "2670/2670 [==============================] - 1s 400us/step - loss: 0.8343 - accuracy: 0.7105 - val_loss: 1.0275 - val_accuracy: 0.6916\n"
     ]
    },
    {
     "data": {
      "text/plain": [
       "<keras.callbacks.callbacks.History at 0x1b42f0f6988>"
      ]
     },
     "execution_count": 83,
     "metadata": {},
     "output_type": "execute_result"
    }
   ],
   "source": [
    "class_weight = {0: 0.50,1: 3,2: 1.5,3: 1.5,4: 3.5}\n",
    "model.compile(loss='categorical_crossentropy', optimizer='adam',metrics=['accuracy'])\n",
    "model.fit(X_train, train_labels, batch_size=16, epochs=10,validation_split=0.2)#,class_weight=class_weight)"
   ]
  },
  {
   "cell_type": "code",
   "execution_count": 88,
   "metadata": {},
   "outputs": [
    {
     "name": "stdout",
     "output_type": "stream",
     "text": [
      "1113/1113 [==============================] - 0s 61us/step\n",
      "              precision    recall  f1-score   support\n",
      "\n",
      "           0       0.70      0.85      0.76       570\n",
      "           1       0.78      0.05      0.10       135\n",
      "           2       0.77      0.54      0.64       133\n",
      "           3       0.82      0.59      0.69       174\n",
      "           4       0.58      0.19      0.28       101\n",
      "\n",
      "   micro avg       0.72      0.61      0.66      1113\n",
      "   macro avg       0.73      0.44      0.49      1113\n",
      "weighted avg       0.72      0.61      0.61      1113\n",
      " samples avg       0.61      0.61      0.61      1113\n",
      "\n",
      "[[[332 211]\n",
      "  [ 88 482]]\n",
      "\n",
      " [[976   2]\n",
      "  [128   7]]\n",
      "\n",
      " [[959  21]\n",
      "  [ 61  72]]\n",
      "\n",
      " [[916  23]\n",
      "  [ 71 103]]\n",
      "\n",
      " [[998  14]\n",
      "  [ 82  19]]]\n"
     ]
    }
   ],
   "source": [
    "model.evaluate(X_test,test_labels)\n",
    "predicted = model.predict(X_test)\n",
    "print(classification_report(test_labels, predicted.round()))\n",
    "cm=multilabel_confusion_matrix(test_labels, predicted.round())\n",
    "print(multilabel_confusion_matrix(test_labels, predicted.round()))"
   ]
  },
  {
   "cell_type": "markdown",
   "metadata": {},
   "source": [
    "## Multimodal Classification\n",
    "## LSTM on text and MLP on classifier"
   ]
  },
  {
   "cell_type": "markdown",
   "metadata": {},
   "source": [
    "choose mlp classifier after count vectorizer because labels and objects are count dpendent"
   ]
  },
  {
   "cell_type": "markdown",
   "metadata": {},
   "source": [
    "## Hate Label"
   ]
  },
  {
   "cell_type": "code",
   "execution_count": 142,
   "metadata": {},
   "outputs": [],
   "source": [
    "from keras.layers import BatchNormalization,Conv2D,MaxPooling2D,Activation,Dropout,Dense,Flatten,Input,concatenate\n",
    "from keras.models import Model,Sequential\n",
    "from sklearn.model_selection import train_test_split\n",
    "from keras.utils import to_categorical\n",
    "from keras.preprocessing.text import Tokenizer\n",
    "from keras.preprocessing.sequence import pad_sequences\n",
    "from keras.layers.core import Activation, Dropout, Dense\n",
    "from keras.layers import Input,GlobalMaxPooling1D,Flatten, LSTM\n",
    "from keras.layers.embeddings import Embedding\n",
    "from keras.layers.merge import Concatenate\n",
    "from keras.initializers import Constant\n",
    "from sklearn.metrics import classification_report,confusion_matrix,multilabel_confusion_matrix\n",
    "import numpy as np\n",
    "from sklearn.metrics import confusion_matrix\n",
    "from keras.layers import LSTM\n",
    "from keras.layers import BatchNormalization,Flatten, Dense"
   ]
  },
  {
   "cell_type": "code",
   "execution_count": 143,
   "metadata": {},
   "outputs": [
    {
     "name": "stderr",
     "output_type": "stream",
     "text": [
      "c:\\python_3.7\\lib\\site-packages\\ipykernel_launcher.py:8: SettingWithCopyWarning: \n",
      "A value is trying to be set on a copy of a slice from a DataFrame.\n",
      "Try using .loc[row_indexer,col_indexer] = value instead\n",
      "\n",
      "See the caveats in the documentation: https://pandas.pydata.org/pandas-docs/stable/user_guide/indexing.html#returning-a-view-versus-a-copy\n",
      "  \n"
     ]
    }
   ],
   "source": [
    "# subsetting required datframe\n",
    "df_final2=df_train_test[['Semi_cleaned_text','label_objects','Hate_label','Sarcasm_label','Category']]\n",
    "\n",
    "# removing ',' from label_objects list\n",
    "def simple_clean(text):\n",
    "    words = text.split(',')\n",
    "    return ' '.join(words)\n",
    "df_final2['label_objects'] = [simple_clean(df_final2['label_objects'][i]) for i in range(len(df_final2['label_objects']))]"
   ]
  },
  {
   "cell_type": "code",
   "execution_count": 144,
   "metadata": {},
   "outputs": [],
   "source": [
    "# train-test split of label_objects\n",
    "train_x_label_object, valid_x_label_object, train_y_label_object, valid_y_label_object = \\\n",
    "    train_test_split(df_final2['label_objects'], df_final2.iloc[:,2:3], test_size=0.2, random_state=42,stratify=df_final2.iloc[:,2:3], shuffle = True)\n",
    "\n",
    "# Word-level count vector of label objects\n",
    "count_vect = CountVectorizer(analyzer='word', token_pattern=r'\\w{1,}')\n",
    "count_vect.fit(df_final2['label_objects'])\n",
    "xtrain_count_label_object = count_vect.transform(train_x_label_object)\n",
    "xvalid_count_label_object = count_vect.transform(valid_x_label_object)"
   ]
  },
  {
   "cell_type": "code",
   "execution_count": 145,
   "metadata": {},
   "outputs": [],
   "source": [
    "# train-test split of text\n",
    "X_train,X_test,y_train,y_test = train_test_split(df_final2['Semi_cleaned_text'],df_final2.iloc[:,2:3],test_size = 0.2,random_state=42,stratify=df_final2.iloc[:,2:3], shuffle = True)\n",
    "\n",
    "train_labels = to_categorical(np.asarray(y_train))\n",
    "test_labels  = to_categorical(np.asarray(y_test))\n"
   ]
  },
  {
   "cell_type": "code",
   "execution_count": 146,
   "metadata": {},
   "outputs": [],
   "source": [
    "## creating tokenizers\n",
    "X_train_list = df_final2['Semi_cleaned_text'].to_list()\n",
    "tokenizer = Tokenizer(num_words=8000)\n",
    "tokenizer.fit_on_texts(X_train_list)\n",
    "\n",
    "vocab_size = len(tokenizer.word_index) + 1\n",
    "X_train = tokenizer.texts_to_sequences(X_train)\n",
    "X_test = tokenizer.texts_to_sequences(X_test)\n",
    "\n",
    "maxlen = 20\n",
    "X_train = pad_sequences(X_train, padding='post', maxlen=maxlen)\n",
    "X_test = pad_sequences(X_test, padding='post', maxlen=maxlen)\n"
   ]
  },
  {
   "cell_type": "code",
   "execution_count": 147,
   "metadata": {},
   "outputs": [],
   "source": [
    "##urban dictionar word2vec embedding matrix\n",
    "word_dic = {}\n",
    "for key in fasttext_ud.vocab:\n",
    "    word_dic[key] = fasttext_ud.get_vector(key)\n",
    "\n",
    "embedding_matrix = np.zeros((vocab_size, 300))\n",
    "for word, index in tokenizer.word_index.items():\n",
    "    embedding_vector = word_dic.get(word)\n",
    "    if embedding_vector is not None:\n",
    "        embedding_matrix[index] = embedding_vector\n",
    "    embedding_matrix.shape\n"
   ]
  },
  {
   "cell_type": "code",
   "execution_count": 148,
   "metadata": {},
   "outputs": [
    {
     "name": "stderr",
     "output_type": "stream",
     "text": [
      "c:\\python_3.7\\lib\\site-packages\\ipykernel_launcher.py:16: UserWarning: Update your `LSTM` call to the Keras 2 API: `LSTM(activation=\"relu\", return_sequences=True, units=256)`\n",
      "  app.launch_new_instance()\n"
     ]
    },
    {
     "name": "stdout",
     "output_type": "stream",
     "text": [
      "Model: \"model_3\"\n",
      "__________________________________________________________________________________________________\n",
      "Layer (type)                    Output Shape         Param #     Connected to                     \n",
      "==================================================================================================\n",
      "embedding_32_input (InputLayer) (None, 20)           0                                            \n",
      "__________________________________________________________________________________________________\n",
      "embedding_32 (Embedding)        (None, 20, 300)      2271000     embedding_32_input[0][0]         \n",
      "__________________________________________________________________________________________________\n",
      "lstm_31 (LSTM)                  (None, 20, 256)      570368      embedding_32[0][0]               \n",
      "__________________________________________________________________________________________________\n",
      "dense_68_input (InputLayer)     (None, 2289)         0                                            \n",
      "__________________________________________________________________________________________________\n",
      "dropout_81 (Dropout)            (None, 20, 256)      0           lstm_31[0][0]                    \n",
      "__________________________________________________________________________________________________\n",
      "dense_68 (Dense)                (None, 512)          1172480     dense_68_input[0][0]             \n",
      "__________________________________________________________________________________________________\n",
      "batch_normalization_43 (BatchNo (None, 20, 256)      1024        dropout_81[0][0]                 \n",
      "__________________________________________________________________________________________________\n",
      "dropout_80 (Dropout)            (None, 512)          0           dense_68[0][0]                   \n",
      "__________________________________________________________________________________________________\n",
      "flatten_31 (Flatten)            (None, 5120)         0           batch_normalization_43[0][0]     \n",
      "__________________________________________________________________________________________________\n",
      "batch_normalization_42 (BatchNo (None, 512)          2048        dropout_80[0][0]                 \n",
      "__________________________________________________________________________________________________\n",
      "dropout_82 (Dropout)            (None, 5120)         0           flatten_31[0][0]                 \n",
      "__________________________________________________________________________________________________\n",
      "dense_69 (Dense)                (None, 64)           32832       batch_normalization_42[0][0]     \n",
      "__________________________________________________________________________________________________\n",
      "dense_70 (Dense)                (None, 64)           327744      dropout_82[0][0]                 \n",
      "__________________________________________________________________________________________________\n",
      "concatenate_8 (Concatenate)     (None, 128)          0           dense_69[0][0]                   \n",
      "                                                                 dense_70[0][0]                   \n",
      "__________________________________________________________________________________________________\n",
      "dense_71 (Dense)                (None, 64)           8256        concatenate_8[0][0]              \n",
      "__________________________________________________________________________________________________\n",
      "dropout_83 (Dropout)            (None, 64)           0           dense_71[0][0]                   \n",
      "__________________________________________________________________________________________________\n",
      "dense_72 (Dense)                (None, 32)           2080        dropout_83[0][0]                 \n",
      "__________________________________________________________________________________________________\n",
      "dropout_84 (Dropout)            (None, 32)           0           dense_72[0][0]                   \n",
      "__________________________________________________________________________________________________\n",
      "dense_73 (Dense)                (None, 2)            66          dropout_84[0][0]                 \n",
      "==================================================================================================\n",
      "Total params: 4,387,898\n",
      "Trainable params: 2,115,362\n",
      "Non-trainable params: 2,272,536\n",
      "__________________________________________________________________________________________________\n",
      "None\n"
     ]
    }
   ],
   "source": [
    "## LSTM on text- \n",
    "\n",
    "#MLP model -branch\n",
    "def create_mlp(dim, regress=False):\n",
    "    model = Sequential()\n",
    "    model.add(Dense(512, input_dim=dim, activation=\"relu\"))\n",
    "    model.add(Dropout(0.5))\n",
    "    model.add(BatchNormalization())\n",
    "    model.add(Dense(64, activation=\"relu\"))\n",
    "    return model\n",
    "\n",
    "#LSTM model-branch\n",
    "def lstm_model(vocab_size,embedding_matrix):\n",
    "    model = Sequential()\n",
    "    model.add(Embedding(vocab_size,300,trainable = False,weights=[embedding_matrix],input_length=20))\n",
    "    model.add(LSTM(output_dim=256,activation='relu', return_sequences=True))\n",
    "    model.add(Dropout(0.5))\n",
    "    model.add(BatchNormalization())\n",
    "    model.add(Flatten())\n",
    "    model.add(Dropout(0.5))\n",
    "    model.add(Dense(64, activation='relu'))\n",
    "    return model\n",
    "\n",
    "#combining branches\n",
    "mlp = create_mlp(xtrain_count_label_object.shape[1], regress=False)\n",
    "lstm = lstm_model(vocab_size,embedding_matrix)\n",
    "combinedInput = concatenate([mlp.output, lstm.output])\n",
    "\n",
    "#neural nr=etwork after combination\n",
    "x = Dense(64, activation=\"relu\")(combinedInput)\n",
    "x = Dropout(0.5)(x)\n",
    "x = Dense(32, activation=\"relu\")(x)\n",
    "x = Dropout(0.5)(x)\n",
    "x = Dense(2, activation='softmax')(x)\n",
    "\n",
    "\n",
    "model = Model(inputs=[mlp.input, lstm.input], outputs=x)\n",
    "print(model.summary())"
   ]
  },
  {
   "cell_type": "code",
   "execution_count": 149,
   "metadata": {},
   "outputs": [],
   "source": [
    "import keras\n",
    "#early stopping criteria\n",
    "cs = keras.callbacks.EarlyStopping(\n",
    "    monitor='val_loss', min_delta=0, patience=1, verbose=0, mode='auto',\n",
    "    baseline=None, restore_best_weights=False)\n",
    "#class weights to penalise/remodify model weights\n",
    "class_weight = {0: 0.50,1: 2.5}\n",
    "\n",
    "\n",
    "# model compile\n",
    "model.compile(loss='categorical_crossentropy',\n",
    "                  optimizer='adam',\n",
    "                  metrics=['accuracy'])\n"
   ]
  },
  {
   "cell_type": "code",
   "execution_count": 131,
   "metadata": {
    "scrolled": true
   },
   "outputs": [
    {
     "name": "stdout",
     "output_type": "stream",
     "text": [
      "Train on 2848 samples, validate on 712 samples\n",
      "Epoch 1/10\n",
      "2848/2848 [==============================] - 13s 4ms/step - loss: 0.8159 - accuracy: 0.3831 - val_loss: 0.8046 - val_accuracy: 0.3862\n",
      "Epoch 2/10\n",
      "2848/2848 [==============================] - 12s 4ms/step - loss: 0.7263 - accuracy: 0.3564 - val_loss: 0.7956 - val_accuracy: 0.3862\n",
      "Epoch 3/10\n",
      "2848/2848 [==============================] - 12s 4ms/step - loss: 0.6995 - accuracy: 0.3631 - val_loss: 0.6964 - val_accuracy: 0.3862\n",
      "Epoch 4/10\n",
      "2848/2848 [==============================] - 12s 4ms/step - loss: 0.6919 - accuracy: 0.3539 - val_loss: 0.7709 - val_accuracy: 0.3862\n",
      "Epoch 5/10\n",
      "2848/2848 [==============================] - 12s 4ms/step - loss: 0.6479 - accuracy: 0.3624 - val_loss: 0.7462 - val_accuracy: 0.3862\n",
      "Epoch 6/10\n",
      "2848/2848 [==============================] - 13s 4ms/step - loss: 0.6278 - accuracy: 0.3638 - val_loss: 0.7436 - val_accuracy: 0.3862\n",
      "Epoch 7/10\n",
      "2848/2848 [==============================] - 13s 4ms/step - loss: 0.5938 - accuracy: 0.4508 - val_loss: 0.7699 - val_accuracy: 0.4508\n",
      "Epoch 8/10\n",
      "2848/2848 [==============================] - 13s 4ms/step - loss: 0.5649 - accuracy: 0.4947 - val_loss: 0.7489 - val_accuracy: 0.4649\n",
      "Epoch 9/10\n",
      "2848/2848 [==============================] - 13s 4ms/step - loss: 0.5304 - accuracy: 0.5692 - val_loss: 0.8111 - val_accuracy: 0.5211\n",
      "Epoch 10/10\n",
      "2848/2848 [==============================] - 13s 4ms/step - loss: 0.4941 - accuracy: 0.5881 - val_loss: 0.8556 - val_accuracy: 0.5885\n"
     ]
    },
    {
     "data": {
      "text/plain": [
       "<keras.callbacks.callbacks.History at 0x1b44623db88>"
      ]
     },
     "execution_count": 131,
     "metadata": {},
     "output_type": "execute_result"
    }
   ],
   "source": [
    "#fitting model\n",
    "model.fit(\n",
    "    x=[xtrain_count_label_object.todense(), X_train], y=train_labels,validation_split=0.2,shuffle=True,class_weight =class_weight,\n",
    "    epochs=10, batch_size=16)"
   ]
  },
  {
   "cell_type": "code",
   "execution_count": 140,
   "metadata": {},
   "outputs": [
    {
     "name": "stdout",
     "output_type": "stream",
     "text": [
      "891/891 [==============================] - 1s 741us/step\n",
      "              precision    recall  f1-score   support\n",
      "\n",
      "           0       0.78      0.57      0.66       574\n",
      "           1       0.48      0.70      0.57       317\n",
      "\n",
      "   micro avg       0.62      0.62      0.62       891\n",
      "   macro avg       0.63      0.64      0.61       891\n",
      "weighted avg       0.67      0.62      0.63       891\n",
      " samples avg       0.62      0.62      0.62       891\n",
      "\n",
      "Confusion matrix for label 0:\n",
      "[[222  95]\n",
      " [244 330]]\n",
      "Confusion matrix for label 1:\n",
      "[[330 244]\n",
      " [ 95 222]]\n"
     ]
    }
   ],
   "source": [
    "model.evaluate([xvalid_count_label_object.todense(), X_test],test_labels)\n",
    "predicted = model.predict([xvalid_count_label_object.todense(), X_test])\n",
    "print(classification_report(test_labels, predicted.round()))\n",
    "labels = [\"0\",\"1\"]\n",
    "conf_mat_dict={}\n",
    "for label_col in range(len(labels)):\n",
    "    y_true_label = test_labels[:, label_col]\n",
    "    y_pred_label = predicted.round()[:, label_col]\n",
    "    conf_mat_dict[labels[label_col]] = confusion_matrix(y_pred=y_pred_label, y_true=y_true_label)\n",
    "for label, matrix in conf_mat_dict.items():\n",
    "    print(\"Confusion matrix for label {}:\".format(label))\n",
    "    print(matrix)"
   ]
  },
  {
   "cell_type": "code",
   "execution_count": 141,
   "metadata": {},
   "outputs": [
    {
     "data": {
      "text/plain": [
       "<matplotlib.axes._subplots.AxesSubplot at 0x1b43da60948>"
      ]
     },
     "execution_count": 141,
     "metadata": {},
     "output_type": "execute_result"
    },
    {
     "data": {
      "image/png": "[encoded data removed]",
      "text/plain": [
       "<Figure size 432x288 with 1 Axes>"
      ]
     },
     "metadata": {
      "needs_background": "light"
     },
     "output_type": "display_data"
    }
   ],
   "source": [
    "cm=confusion_matrix(y_true_label, y_pred_label)\n",
    "sns.heatmap(cm/np.sum(cm), annot=True, fmt='.2%',  cmap=plt.cm.Blues, \n",
    "            cbar=False)"
   ]
  },
  {
   "cell_type": "code",
   "execution_count": 134,
   "metadata": {},
   "outputs": [
    {
     "name": "stdout",
     "output_type": "stream",
     "text": [
      "AUC: 0.685\n",
      "\n"
     ]
    }
   ],
   "source": [
    "from sklearn.metrics import roc_auc_score\n",
    "print('AUC: {:.3f}\\n'.format(roc_auc_score(test_labels, predicted)))#,multi_class=\"ovr\")))"
   ]
  },
  {
   "cell_type": "markdown",
   "metadata": {},
   "source": [
    "## Sarcasm Label"
   ]
  },
  {
   "cell_type": "code",
   "execution_count": 157,
   "metadata": {},
   "outputs": [],
   "source": [
    "# train test split for label objects\n",
    "train_x_label_object, valid_x_label_object, train_y_label_object, valid_y_label_object = \\\n",
    "    train_test_split(df_final2['label_objects'], df_final2.iloc[:,3:4], test_size=0.2, random_state=42,stratify=df_final2.iloc[:,3:4], shuffle = True)"
   ]
  },
  {
   "cell_type": "code",
   "execution_count": 158,
   "metadata": {},
   "outputs": [],
   "source": [
    "# Word-level count vector for label objects\n",
    "count_vect = CountVectorizer(analyzer='word', token_pattern=r'\\w{1,}')\n",
    "count_vect.fit(df_final2['label_objects'])\n",
    "xtrain_count_label_object = count_vect.transform(train_x_label_object)\n",
    "xvalid_count_label_object = count_vect.transform(valid_x_label_object)"
   ]
  },
  {
   "cell_type": "code",
   "execution_count": 159,
   "metadata": {},
   "outputs": [],
   "source": [
    "#train test split for texts\n",
    "X_train,X_test,y_train,y_test = train_test_split(df_final2['Semi_cleaned_text'],df_final2.iloc[:,3:4],test_size = 0.2,random_state=42,stratify=df_final2.iloc[:,3:4], shuffle = True)\n",
    "\n",
    "train_labels = to_categorical(np.asarray(y_train))\n",
    "test_labels  = to_categorical(np.asarray(y_test))\n"
   ]
  },
  {
   "cell_type": "code",
   "execution_count": 160,
   "metadata": {},
   "outputs": [],
   "source": [
    "#text tokenizer\n",
    "X_train_list = df_final2['Semi_cleaned_text'].to_list()\n",
    "tokenizer = Tokenizer(num_words=8000)\n",
    "tokenizer.fit_on_texts(X_train_list)\n",
    "\n",
    "vocab_size = len(tokenizer.word_index) + 1\n",
    "X_train = tokenizer.texts_to_sequences(X_train)\n",
    "X_test = tokenizer.texts_to_sequences(X_test)\n",
    "\n",
    "maxlen = 20\n",
    "X_train = pad_sequences(X_train, padding='post', maxlen=maxlen)\n",
    "X_test = pad_sequences(X_test, padding='post', maxlen=maxlen)\n"
   ]
  },
  {
   "cell_type": "code",
   "execution_count": 161,
   "metadata": {},
   "outputs": [],
   "source": [
    "#urban dict word2vec\n",
    "word_dic = {}\n",
    "for key in fasttext_ud.vocab:\n",
    "    word_dic[key] = fasttext_ud.get_vector(key)\n",
    "\n",
    "embedding_matrix = np.zeros((vocab_size, 300))\n",
    "for word, index in tokenizer.word_index.items():\n",
    "    embedding_vector = word_dic.get(word)\n",
    "    if embedding_vector is not None:\n",
    "        embedding_matrix[index] = embedding_vector\n",
    "    embedding_matrix.shape\n"
   ]
  },
  {
   "cell_type": "code",
   "execution_count": 162,
   "metadata": {},
   "outputs": [
    {
     "name": "stderr",
     "output_type": "stream",
     "text": [
      "c:\\python_3.7\\lib\\site-packages\\ipykernel_launcher.py:12: UserWarning: Update your `LSTM` call to the Keras 2 API: `LSTM(activation=\"relu\", return_sequences=True, units=256)`\n",
      "  if sys.path[0] == '':\n"
     ]
    },
    {
     "name": "stdout",
     "output_type": "stream",
     "text": [
      "Model: \"model_5\"\n",
      "__________________________________________________________________________________________________\n",
      "Layer (type)                    Output Shape         Param #     Connected to                     \n",
      "==================================================================================================\n",
      "embedding_34_input (InputLayer) (None, 20)           0                                            \n",
      "__________________________________________________________________________________________________\n",
      "embedding_34 (Embedding)        (None, 20, 300)      2271000     embedding_34_input[0][0]         \n",
      "__________________________________________________________________________________________________\n",
      "lstm_33 (LSTM)                  (None, 20, 256)      570368      embedding_34[0][0]               \n",
      "__________________________________________________________________________________________________\n",
      "dense_80_input (InputLayer)     (None, 2289)         0                                            \n",
      "__________________________________________________________________________________________________\n",
      "dropout_91 (Dropout)            (None, 20, 256)      0           lstm_33[0][0]                    \n",
      "__________________________________________________________________________________________________\n",
      "dense_80 (Dense)                (None, 512)          1172480     dense_80_input[0][0]             \n",
      "__________________________________________________________________________________________________\n",
      "batch_normalization_47 (BatchNo (None, 20, 256)      1024        dropout_91[0][0]                 \n",
      "__________________________________________________________________________________________________\n",
      "dropout_90 (Dropout)            (None, 512)          0           dense_80[0][0]                   \n",
      "__________________________________________________________________________________________________\n",
      "flatten_33 (Flatten)            (None, 5120)         0           batch_normalization_47[0][0]     \n",
      "__________________________________________________________________________________________________\n",
      "batch_normalization_46 (BatchNo (None, 512)          2048        dropout_90[0][0]                 \n",
      "__________________________________________________________________________________________________\n",
      "dropout_92 (Dropout)            (None, 5120)         0           flatten_33[0][0]                 \n",
      "__________________________________________________________________________________________________\n",
      "dense_81 (Dense)                (None, 64)           32832       batch_normalization_46[0][0]     \n",
      "__________________________________________________________________________________________________\n",
      "dense_82 (Dense)                (None, 64)           327744      dropout_92[0][0]                 \n",
      "__________________________________________________________________________________________________\n",
      "concatenate_10 (Concatenate)    (None, 128)          0           dense_81[0][0]                   \n",
      "                                                                 dense_82[0][0]                   \n",
      "__________________________________________________________________________________________________\n",
      "dense_83 (Dense)                (None, 64)           8256        concatenate_10[0][0]             \n",
      "__________________________________________________________________________________________________\n",
      "dropout_93 (Dropout)            (None, 64)           0           dense_83[0][0]                   \n",
      "__________________________________________________________________________________________________\n",
      "dense_84 (Dense)                (None, 32)           2080        dropout_93[0][0]                 \n",
      "__________________________________________________________________________________________________\n",
      "dropout_94 (Dropout)            (None, 32)           0           dense_84[0][0]                   \n",
      "__________________________________________________________________________________________________\n",
      "dense_85 (Dense)                (None, 2)            66          dropout_94[0][0]                 \n",
      "==================================================================================================\n",
      "Total params: 4,387,898\n",
      "Trainable params: 2,115,362\n",
      "Non-trainable params: 2,272,536\n",
      "__________________________________________________________________________________________________\n",
      "None\n"
     ]
    }
   ],
   "source": [
    "def create_mlp(dim, regress=False):\n",
    "    model = Sequential()\n",
    "    model.add(Dense(512, input_dim=dim, activation=\"relu\"))\n",
    "    model.add(Dropout(0.5))\n",
    "    model.add(BatchNormalization())\n",
    "    model.add(Dense(64, activation=\"relu\"))\n",
    "    return model\n",
    "\n",
    "def lstm_model(vocab_size,embedding_matrix):\n",
    "    model = Sequential()\n",
    "    model.add(Embedding(vocab_size,300,trainable = False,weights=[embedding_matrix],input_length=20))\n",
    "    model.add(LSTM(output_dim=256,activation='relu', return_sequences=True))\n",
    "    model.add(Dropout(0.5))\n",
    "    model.add(BatchNormalization())\n",
    "    model.add(Flatten())\n",
    "    model.add(Dropout(0.5))\n",
    "    model.add(Dense(64, activation='relu'))\n",
    "    return model\n",
    "\n",
    "mlp = create_mlp(xtrain_count_label_object.shape[1], regress=False)\n",
    "lstm = lstm_model(vocab_size,embedding_matrix)\n",
    "combinedInput = concatenate([mlp.output, lstm.output])\n",
    "\n",
    "x = Dense(64, activation=\"relu\")(combinedInput)\n",
    "x = Dropout(0.5)(x)\n",
    "x = Dense(32, activation=\"relu\")(x)\n",
    "x = Dropout(0.5)(x)\n",
    "x = Dense(2, activation='softmax')(x)\n",
    "\n",
    "\n",
    "model = Model(inputs=[mlp.input, lstm.input], outputs=x)\n",
    "print(model.summary())\n",
    "model.compile(loss='categorical_crossentropy',\n",
    "                  optimizer='adam',\n",
    "                  metrics=['accuracy'])"
   ]
  },
  {
   "cell_type": "code",
   "execution_count": 164,
   "metadata": {},
   "outputs": [],
   "source": [
    "#early stopping criteria\n",
    "import keras\n",
    "cs = keras.callbacks.EarlyStopping(\n",
    "    monitor='val_loss', min_delta=0, patience=1, verbose=0, mode='auto',\n",
    "    baseline=None, restore_best_weights=False)\n",
    "class_weight = {0: 0.50,1: 1.5}"
   ]
  },
  {
   "cell_type": "code",
   "execution_count": 163,
   "metadata": {},
   "outputs": [
    {
     "name": "stdout",
     "output_type": "stream",
     "text": [
      "Train on 2848 samples, validate on 712 samples\n",
      "Epoch 1/10\n",
      "2848/2848 [==============================] - 12s 4ms/step - loss: 0.5772 - accuracy: 0.6766 - val_loss: 0.4795 - val_accuracy: 0.6994\n",
      "Epoch 2/10\n",
      "2848/2848 [==============================] - 12s 4ms/step - loss: 0.4946 - accuracy: 0.6903 - val_loss: 0.5378 - val_accuracy: 0.6994\n",
      "Epoch 3/10\n",
      "2848/2848 [==============================] - 12s 4ms/step - loss: 0.4702 - accuracy: 0.6910 - val_loss: 0.4485 - val_accuracy: 0.6994\n",
      "Epoch 4/10\n",
      "2848/2848 [==============================] - 12s 4ms/step - loss: 0.4555 - accuracy: 0.6917 - val_loss: 0.4681 - val_accuracy: 0.6994\n",
      "Epoch 5/10\n",
      "2848/2848 [==============================] - 13s 5ms/step - loss: 0.4376 - accuracy: 0.6921 - val_loss: 0.4780 - val_accuracy: 0.6994\n",
      "Epoch 6/10\n",
      "2848/2848 [==============================] - 13s 4ms/step - loss: 0.4040 - accuracy: 0.6935 - val_loss: 0.4643 - val_accuracy: 0.6994\n",
      "Epoch 7/10\n",
      "2848/2848 [==============================] - 13s 5ms/step - loss: 0.3810 - accuracy: 0.6963 - val_loss: 0.4943 - val_accuracy: 0.7008\n",
      "Epoch 8/10\n",
      "2848/2848 [==============================] - 13s 5ms/step - loss: 0.3537 - accuracy: 0.7044 - val_loss: 0.4858 - val_accuracy: 0.7022\n",
      "Epoch 9/10\n",
      "2848/2848 [==============================] - 13s 4ms/step - loss: 0.3394 - accuracy: 0.7363 - val_loss: 0.5441 - val_accuracy: 0.7037\n",
      "Epoch 10/10\n",
      "2848/2848 [==============================] - 13s 5ms/step - loss: 0.3134 - accuracy: 0.7458 - val_loss: 0.5457 - val_accuracy: 0.7008\n"
     ]
    },
    {
     "data": {
      "text/plain": [
       "<keras.callbacks.callbacks.History at 0x1b44ba41808>"
      ]
     },
     "execution_count": 163,
     "metadata": {},
     "output_type": "execute_result"
    }
   ],
   "source": [
    "#fitting model\n",
    "model.fit(\n",
    "    x=[xtrain_count_label_object.todense(), X_train], y=train_labels,validation_split=0.2,shuffle=True,class_weight =class_weight,\n",
    "    epochs=10, batch_size=16)\n"
   ]
  },
  {
   "cell_type": "code",
   "execution_count": 155,
   "metadata": {
    "scrolled": true
   },
   "outputs": [
    {
     "name": "stderr",
     "output_type": "stream",
     "text": [
      "c:\\python_3.7\\lib\\site-packages\\ipykernel_launcher.py:53: UserWarning: Update your `LSTM` call to the Keras 2 API: `LSTM(activation=\"relu\", return_sequences=True, units=256)`\n"
     ]
    },
    {
     "name": "stdout",
     "output_type": "stream",
     "text": [
      "Model: \"model_3\"\n",
      "__________________________________________________________________________________________________\n",
      "Layer (type)                    Output Shape         Param #     Connected to                     \n",
      "==================================================================================================\n",
      "embedding_32_input (InputLayer) (None, 20)           0                                            \n",
      "__________________________________________________________________________________________________\n",
      "embedding_32 (Embedding)        (None, 20, 300)      2271000     embedding_32_input[0][0]         \n",
      "__________________________________________________________________________________________________\n",
      "lstm_31 (LSTM)                  (None, 20, 256)      570368      embedding_32[0][0]               \n",
      "__________________________________________________________________________________________________\n",
      "dense_68_input (InputLayer)     (None, 2289)         0                                            \n",
      "__________________________________________________________________________________________________\n",
      "dropout_81 (Dropout)            (None, 20, 256)      0           lstm_31[0][0]                    \n",
      "__________________________________________________________________________________________________\n",
      "dense_68 (Dense)                (None, 512)          1172480     dense_68_input[0][0]             \n",
      "__________________________________________________________________________________________________\n",
      "batch_normalization_43 (BatchNo (None, 20, 256)      1024        dropout_81[0][0]                 \n",
      "__________________________________________________________________________________________________\n",
      "dropout_80 (Dropout)            (None, 512)          0           dense_68[0][0]                   \n",
      "__________________________________________________________________________________________________\n",
      "flatten_31 (Flatten)            (None, 5120)         0           batch_normalization_43[0][0]     \n",
      "__________________________________________________________________________________________________\n",
      "batch_normalization_42 (BatchNo (None, 512)          2048        dropout_80[0][0]                 \n",
      "__________________________________________________________________________________________________\n",
      "dropout_82 (Dropout)            (None, 5120)         0           flatten_31[0][0]                 \n",
      "__________________________________________________________________________________________________\n",
      "dense_69 (Dense)                (None, 64)           32832       batch_normalization_42[0][0]     \n",
      "__________________________________________________________________________________________________\n",
      "dense_70 (Dense)                (None, 64)           327744      dropout_82[0][0]                 \n",
      "__________________________________________________________________________________________________\n",
      "concatenate_8 (Concatenate)     (None, 128)          0           dense_69[0][0]                   \n",
      "                                                                 dense_70[0][0]                   \n",
      "__________________________________________________________________________________________________\n",
      "dense_71 (Dense)                (None, 64)           8256        concatenate_8[0][0]              \n",
      "__________________________________________________________________________________________________\n",
      "dropout_83 (Dropout)            (None, 64)           0           dense_71[0][0]                   \n",
      "__________________________________________________________________________________________________\n",
      "dense_72 (Dense)                (None, 32)           2080        dropout_83[0][0]                 \n",
      "__________________________________________________________________________________________________\n",
      "dropout_84 (Dropout)            (None, 32)           0           dense_72[0][0]                   \n",
      "__________________________________________________________________________________________________\n",
      "dense_73 (Dense)                (None, 2)            66          dropout_84[0][0]                 \n",
      "==================================================================================================\n",
      "Total params: 4,387,898\n",
      "Trainable params: 2,115,362\n",
      "Non-trainable params: 2,272,536\n",
      "__________________________________________________________________________________________________\n",
      "None\n",
      "Train on 2848 samples, validate on 712 samples\n",
      "Epoch 1/10\n",
      "2848/2848 [==============================] - 13s 5ms/step - loss: 0.5671 - accuracy: 0.6829 - val_loss: 0.4910 - val_accuracy: 0.6994\n",
      "Epoch 2/10\n",
      "2848/2848 [==============================] - 13s 4ms/step - loss: 0.4787 - accuracy: 0.6917 - val_loss: 0.6083 - val_accuracy: 0.6994\n",
      "Epoch 3/10\n",
      "2848/2848 [==============================] - 13s 4ms/step - loss: 0.4681 - accuracy: 0.6917 - val_loss: 0.5031 - val_accuracy: 0.6994\n",
      "Epoch 4/10\n",
      "2848/2848 [==============================] - 13s 4ms/step - loss: 0.4475 - accuracy: 0.6935 - val_loss: 0.4938 - val_accuracy: 0.6994\n",
      "Epoch 5/10\n",
      "2848/2848 [==============================] - 13s 5ms/step - loss: 0.4224 - accuracy: 0.6952 - val_loss: 0.4830 - val_accuracy: 0.6994\n",
      "Epoch 6/10\n",
      "2848/2848 [==============================] - 13s 4ms/step - loss: 0.4038 - accuracy: 0.7008 - val_loss: 0.4938 - val_accuracy: 0.6980\n",
      "Epoch 7/10\n",
      "2848/2848 [==============================] - 13s 4ms/step - loss: 0.3791 - accuracy: 0.7029 - val_loss: 0.4752 - val_accuracy: 0.6980\n",
      "Epoch 8/10\n",
      "2848/2848 [==============================] - 13s 5ms/step - loss: 0.3525 - accuracy: 0.7145 - val_loss: 0.5335 - val_accuracy: 0.7008\n",
      "Epoch 9/10\n",
      "2848/2848 [==============================] - 13s 5ms/step - loss: 0.3136 - accuracy: 0.7346 - val_loss: 0.5225 - val_accuracy: 0.6826\n",
      "Epoch 10/10\n",
      "2848/2848 [==============================] - 13s 5ms/step - loss: 0.2867 - accuracy: 0.7834 - val_loss: 0.5591 - val_accuracy: 0.6910\n",
      "891/891 [==============================] - 1s 998us/step\n",
      "              precision    recall  f1-score   support\n",
      "\n",
      "           0       0.38      0.17      0.23       273\n",
      "           1       0.70      0.88      0.78       618\n",
      "\n",
      "   micro avg       0.66      0.66      0.66       891\n",
      "   macro avg       0.54      0.52      0.51       891\n",
      "weighted avg       0.60      0.66      0.61       891\n",
      " samples avg       0.66      0.66      0.66       891\n",
      "\n",
      "[[[542  76]\n",
      "  [227  46]]\n",
      "\n",
      " [[ 46 227]\n",
      "  [ 76 542]]]\n",
      "Confusion matrix for label 0:\n",
      "[[542  76]\n",
      " [227  46]]\n",
      "Confusion matrix for label 1:\n",
      "[[ 46 227]\n",
      " [ 76 542]]\n"
     ]
    }
   ],
   "source": [
    "#evaluating model\n",
    "model.evaluate([xvalid_count_label_object.todense(), X_test],test_labels)\n",
    "predicted = model.predict([xvalid_count_label_object.todense(), X_test])\n",
    "print(classification_report(test_labels, predicted.round()))\n",
    "labels = [\"0\",\"1\"]\n",
    "conf_mat_dict={}\n",
    "for label_col in range(len(labels)):\n",
    "    y_true_label = test_labels[:, label_col]\n",
    "    y_pred_label = predicted.round()[:, label_col]\n",
    "    conf_mat_dict[labels[label_col]] = confusion_matrix(y_pred=y_pred_label, y_true=y_true_label)\n",
    "for label, matrix in conf_mat_dict.items():\n",
    "    print(\"Confusion matrix for label {}:\".format(label))\n",
    "    print(matrix)"
   ]
  },
  {
   "cell_type": "code",
   "execution_count": 156,
   "metadata": {},
   "outputs": [
    {
     "data": {
      "text/plain": [
       "<matplotlib.axes._subplots.AxesSubplot at 0x1b4420c7808>"
      ]
     },
     "execution_count": 156,
     "metadata": {},
     "output_type": "execute_result"
    },
    {
     "data": {
      "image/png": "[encoded data removed]",
      "text/plain": [
       "<Figure size 432x288 with 1 Axes>"
      ]
     },
     "metadata": {
      "needs_background": "light"
     },
     "output_type": "display_data"
    }
   ],
   "source": [
    "cm=confusion_matrix(y_true_label, y_pred_label)\n",
    "sns.heatmap(cm/np.sum(cm), annot=True, fmt='.2%',  cmap=plt.cm.Blues, \n",
    "            cbar=False)"
   ]
  },
  {
   "cell_type": "code",
   "execution_count": 165,
   "metadata": {},
   "outputs": [
    {
     "name": "stdout",
     "output_type": "stream",
     "text": [
      "AUC: 0.584\n",
      "\n"
     ]
    }
   ],
   "source": [
    "from sklearn.metrics import roc_auc_score\n",
    "print('AUC: {:.3f}\\n'.format(roc_auc_score(test_labels, predicted)))#,multi_class=\"ovr\")))"
   ]
  },
  {
   "cell_type": "markdown",
   "metadata": {},
   "source": [
    "## Category Label"
   ]
  },
  {
   "cell_type": "code",
   "execution_count": 184,
   "metadata": {},
   "outputs": [
    {
     "name": "stderr",
     "output_type": "stream",
     "text": [
      "c:\\python_3.7\\lib\\site-packages\\pandas\\core\\indexing.py:671: SettingWithCopyWarning: \n",
      "A value is trying to be set on a copy of a slice from a DataFrame\n",
      "\n",
      "See the caveats in the documentation: https://pandas.pydata.org/pandas-docs/stable/user_guide/indexing.html#returning-a-view-versus-a-copy\n",
      "  self._setitem_with_indexer(indexer, value)\n",
      "c:\\python_3.7\\lib\\site-packages\\ipykernel_launcher.py:1: SettingWithCopyWarning: \n",
      "A value is trying to be set on a copy of a slice from a DataFrame\n",
      "\n",
      "See the caveats in the documentation: https://pandas.pydata.org/pandas-docs/stable/user_guide/indexing.html#returning-a-view-versus-a-copy\n",
      "  \"\"\"Entry point for launching an IPython kernel.\n"
     ]
    }
   ],
   "source": [
    "df_final2['Category'].loc[df_final2['Category'] ==5] = 0\n",
    "train_x_label_object, valid_x_label_object, train_y_label_object, valid_y_label_object = \\\n",
    "    train_test_split(df_final2['label_objects'], df_final2.iloc[:,4:5], test_size=0.2, random_state=42,stratify=df_final2.iloc[:,4:5], shuffle = True)\n"
   ]
  },
  {
   "cell_type": "code",
   "execution_count": 185,
   "metadata": {},
   "outputs": [],
   "source": [
    "# Word-level count vector\n",
    "count_vect = CountVectorizer(analyzer='word', token_pattern=r'\\w{1,}')\n",
    "count_vect.fit(df_final2['label_objects'])\n",
    "xtrain_count_label_object = count_vect.transform(train_x_label_object)\n",
    "xvalid_count_label_object = count_vect.transform(valid_x_label_object)\n"
   ]
  },
  {
   "cell_type": "code",
   "execution_count": 186,
   "metadata": {},
   "outputs": [],
   "source": [
    "X_train,X_test,y_train,y_test = train_test_split(df_final2['Semi_cleaned_text'],df_final2.iloc[:,4:5],test_size = 0.2,random_state=42,stratify=df_final2.iloc[:,4:5], shuffle = True)\n",
    "train_labels = to_categorical(np.asarray(y_train))\n",
    "test_labels  = to_categorical(np.asarray(y_test))\n"
   ]
  },
  {
   "cell_type": "code",
   "execution_count": 187,
   "metadata": {},
   "outputs": [],
   "source": [
    "X_train_list = df_final2['Semi_cleaned_text'].to_list()\n",
    "tokenizer = Tokenizer(num_words=8000)\n",
    "tokenizer.fit_on_texts(X_train_list)\n",
    "\n",
    "vocab_size = len(tokenizer.word_index) + 1\n",
    "X_train = tokenizer.texts_to_sequences(X_train)\n",
    "X_test = tokenizer.texts_to_sequences(X_test)\n",
    "\n",
    "maxlen = 20\n",
    "X_train = pad_sequences(X_train, padding='post', maxlen=maxlen)\n",
    "X_test = pad_sequences(X_test, padding='post', maxlen=maxlen)\n"
   ]
  },
  {
   "cell_type": "code",
   "execution_count": 188,
   "metadata": {},
   "outputs": [],
   "source": [
    "word_dic = {}\n",
    "for key in fasttext_ud.vocab:\n",
    "    word_dic[key] = fasttext_ud.get_vector(key)\n",
    "\n",
    "embedding_matrix = np.zeros((vocab_size, 300))\n",
    "for word, index in tokenizer.word_index.items():\n",
    "    embedding_vector = word_dic.get(word)\n",
    "    if embedding_vector is not None:\n",
    "        embedding_matrix[index] = embedding_vector\n",
    "    embedding_matrix.shape"
   ]
  },
  {
   "cell_type": "code",
   "execution_count": 189,
   "metadata": {},
   "outputs": [
    {
     "name": "stderr",
     "output_type": "stream",
     "text": [
      "c:\\python_3.7\\lib\\site-packages\\ipykernel_launcher.py:15: UserWarning: Update your `LSTM` call to the Keras 2 API: `LSTM(activation=\"relu\", return_sequences=True, units=256)`\n",
      "  from ipykernel import kernelapp as app\n"
     ]
    },
    {
     "name": "stdout",
     "output_type": "stream",
     "text": [
      "Model: \"model_7\"\n",
      "__________________________________________________________________________________________________\n",
      "Layer (type)                    Output Shape         Param #     Connected to                     \n",
      "==================================================================================================\n",
      "embedding_36_input (InputLayer) (None, 20)           0                                            \n",
      "__________________________________________________________________________________________________\n",
      "embedding_36 (Embedding)        (None, 20, 300)      2271000     embedding_36_input[0][0]         \n",
      "__________________________________________________________________________________________________\n",
      "lstm_35 (LSTM)                  (None, 20, 256)      570368      embedding_36[0][0]               \n",
      "__________________________________________________________________________________________________\n",
      "dense_92_input (InputLayer)     (None, 2289)         0                                            \n",
      "__________________________________________________________________________________________________\n",
      "dropout_101 (Dropout)           (None, 20, 256)      0           lstm_35[0][0]                    \n",
      "__________________________________________________________________________________________________\n",
      "dense_92 (Dense)                (None, 512)          1172480     dense_92_input[0][0]             \n",
      "__________________________________________________________________________________________________\n",
      "batch_normalization_51 (BatchNo (None, 20, 256)      1024        dropout_101[0][0]                \n",
      "__________________________________________________________________________________________________\n",
      "dropout_100 (Dropout)           (None, 512)          0           dense_92[0][0]                   \n",
      "__________________________________________________________________________________________________\n",
      "flatten_35 (Flatten)            (None, 5120)         0           batch_normalization_51[0][0]     \n",
      "__________________________________________________________________________________________________\n",
      "batch_normalization_50 (BatchNo (None, 512)          2048        dropout_100[0][0]                \n",
      "__________________________________________________________________________________________________\n",
      "dropout_102 (Dropout)           (None, 5120)         0           flatten_35[0][0]                 \n",
      "__________________________________________________________________________________________________\n",
      "dense_93 (Dense)                (None, 64)           32832       batch_normalization_50[0][0]     \n",
      "__________________________________________________________________________________________________\n",
      "dense_94 (Dense)                (None, 64)           327744      dropout_102[0][0]                \n",
      "__________________________________________________________________________________________________\n",
      "concatenate_12 (Concatenate)    (None, 128)          0           dense_93[0][0]                   \n",
      "                                                                 dense_94[0][0]                   \n",
      "__________________________________________________________________________________________________\n",
      "dense_95 (Dense)                (None, 64)           8256        concatenate_12[0][0]             \n",
      "__________________________________________________________________________________________________\n",
      "dropout_103 (Dropout)           (None, 64)           0           dense_95[0][0]                   \n",
      "__________________________________________________________________________________________________\n",
      "dense_96 (Dense)                (None, 32)           2080        dropout_103[0][0]                \n",
      "__________________________________________________________________________________________________\n",
      "dropout_104 (Dropout)           (None, 32)           0           dense_96[0][0]                   \n",
      "__________________________________________________________________________________________________\n",
      "dense_97 (Dense)                (None, 5)            165         dropout_104[0][0]                \n",
      "==================================================================================================\n",
      "Total params: 4,387,997\n",
      "Trainable params: 2,115,461\n",
      "Non-trainable params: 2,272,536\n",
      "__________________________________________________________________________________________________\n",
      "None\n"
     ]
    }
   ],
   "source": [
    "## LSTM on text- \n",
    "\n",
    "def create_mlp(dim, regress=False):\n",
    "    model = Sequential()\n",
    "    model.add(Dense(512, input_dim=dim, activation=\"relu\"))\n",
    "    model.add(Dropout(0.5))\n",
    "    model.add(BatchNormalization())\n",
    "    model.add(Dense(64, activation=\"relu\"))\n",
    "    return model\n",
    "\n",
    "\n",
    "def lstm_model(vocab_size,embedding_matrix):\n",
    "    model = Sequential()\n",
    "    model.add(Embedding(vocab_size,300,trainable = False,weights=[embedding_matrix],input_length=20))\n",
    "    model.add(LSTM(output_dim=256,activation='relu', return_sequences=True))\n",
    "    model.add(Dropout(0.5))\n",
    "    model.add(BatchNormalization())\n",
    "    model.add(Flatten())\n",
    "    model.add(Dropout(0.5))\n",
    "    model.add(Dense(64, activation='relu'))\n",
    "    return model\n",
    "\n",
    "mlp = create_mlp(xtrain_count_label_object.shape[1], regress=False)\n",
    "lstm = lstm_model(vocab_size,embedding_matrix)\n",
    "combinedInput = concatenate([mlp.output, lstm.output])\n",
    "\n",
    "x = Dense(64, activation=\"relu\")(combinedInput)\n",
    "x = Dropout(0.5)(x)\n",
    "x = Dense(32, activation=\"relu\")(x)\n",
    "x = Dropout(0.5)(x)\n",
    "x = Dense(5, activation='softmax')(x)\n",
    "\n",
    "model = Model(inputs=[mlp.input, lstm.input], outputs=x)\n",
    "print(model.summary())"
   ]
  },
  {
   "cell_type": "code",
   "execution_count": 190,
   "metadata": {},
   "outputs": [],
   "source": [
    "model.compile(loss='categorical_crossentropy',\n",
    "                  optimizer='adam',\n",
    "                  metrics=['accuracy'])\n"
   ]
  },
  {
   "cell_type": "code",
   "execution_count": 191,
   "metadata": {},
   "outputs": [],
   "source": [
    "import keras\n",
    "cs = keras.callbacks.EarlyStopping(\n",
    "    monitor='val_loss', min_delta=0, patience=1, verbose=0, mode='auto',\n",
    "    baseline=None, restore_best_weights=False)\n",
    "class_weight = {0: 1,1:1,2:1,3:1,4:1,5:1}\n"
   ]
  },
  {
   "cell_type": "code",
   "execution_count": 192,
   "metadata": {},
   "outputs": [
    {
     "name": "stdout",
     "output_type": "stream",
     "text": [
      "Train on 2848 samples, validate on 712 samples\n",
      "Epoch 1/10\n",
      "2848/2848 [==============================] - 12s 4ms/step - loss: 1.5692 - accuracy: 0.4140 - val_loss: 1.4168 - val_accuracy: 0.5112\n",
      "Epoch 2/10\n",
      "2848/2848 [==============================] - 12s 4ms/step - loss: 1.4229 - accuracy: 0.5116 - val_loss: 1.4193 - val_accuracy: 0.5112\n",
      "Epoch 3/10\n",
      "2848/2848 [==============================] - 13s 5ms/step - loss: 1.3536 - accuracy: 0.5323 - val_loss: 1.3550 - val_accuracy: 0.5393\n",
      "Epoch 4/10\n",
      "2848/2848 [==============================] - 13s 5ms/step - loss: 1.2744 - accuracy: 0.5555 - val_loss: 1.3217 - val_accuracy: 0.5604\n",
      "Epoch 5/10\n",
      "2848/2848 [==============================] - 14s 5ms/step - loss: 1.2043 - accuracy: 0.5843 - val_loss: 1.1880 - val_accuracy: 0.5941\n",
      "Epoch 6/10\n",
      "2848/2848 [==============================] - 13s 5ms/step - loss: 1.1275 - accuracy: 0.6067 - val_loss: 1.1268 - val_accuracy: 0.6264\n",
      "Epoch 7/10\n",
      "2848/2848 [==============================] - 13s 5ms/step - loss: 1.0507 - accuracy: 0.6450 - val_loss: 1.1176 - val_accuracy: 0.6503\n",
      "Epoch 8/10\n",
      "2848/2848 [==============================] - 13s 4ms/step - loss: 0.9704 - accuracy: 0.6552 - val_loss: 1.1356 - val_accuracy: 0.6404\n",
      "Epoch 9/10\n",
      "2848/2848 [==============================] - 13s 5ms/step - loss: 0.9380 - accuracy: 0.6749 - val_loss: 1.1323 - val_accuracy: 0.6447\n",
      "Epoch 10/10\n",
      "2848/2848 [==============================] - 13s 5ms/step - loss: 0.8898 - accuracy: 0.6706 - val_loss: 1.1885 - val_accuracy: 0.6376\n"
     ]
    },
    {
     "data": {
      "text/plain": [
       "<keras.callbacks.callbacks.History at 0x1b46188f848>"
      ]
     },
     "execution_count": 192,
     "metadata": {},
     "output_type": "execute_result"
    }
   ],
   "source": [
    "model.fit(\n",
    "    x=[xtrain_count_label_object.todense(), X_train], y=train_labels,validation_split=0.2,shuffle=True,class_weight =class_weight,\n",
    "    epochs=10, batch_size=16)\n"
   ]
  },
  {
   "cell_type": "code",
   "execution_count": 193,
   "metadata": {},
   "outputs": [
    {
     "name": "stdout",
     "output_type": "stream",
     "text": [
      "891/891 [==============================] - 1s 992us/step\n",
      "              precision    recall  f1-score   support\n",
      "\n",
      "           0       0.74      0.62      0.67       469\n",
      "           1       0.00      0.00      0.00       101\n",
      "           2       0.88      0.45      0.59       110\n",
      "           3       0.93      0.32      0.48       134\n",
      "           4       0.00      0.00      0.00        77\n",
      "\n",
      "   micro avg       0.77      0.43      0.55       891\n",
      "   macro avg       0.51      0.28      0.35       891\n",
      "weighted avg       0.64      0.43      0.50       891\n",
      " samples avg       0.43      0.43      0.43       891\n",
      "\n",
      "Confusion matrix for label 0:\n",
      "[[320 102]\n",
      " [179 290]]\n",
      "Confusion matrix for label 1:\n",
      "[[790   0]\n",
      " [101   0]]\n",
      "Confusion matrix for label 2:\n",
      "[[774   7]\n",
      " [ 61  49]]\n",
      "Confusion matrix for label 3:\n",
      "[[754   3]\n",
      " [ 91  43]]\n",
      "Confusion matrix for label 4:\n",
      "[[814   0]\n",
      " [ 77   0]]\n"
     ]
    },
    {
     "name": "stderr",
     "output_type": "stream",
     "text": [
      "c:\\python_3.7\\lib\\site-packages\\sklearn\\metrics\\_classification.py:1272: UndefinedMetricWarning: Precision and F-score are ill-defined and being set to 0.0 in labels with no predicted samples. Use `zero_division` parameter to control this behavior.\n",
      "  _warn_prf(average, modifier, msg_start, len(result))\n",
      "c:\\python_3.7\\lib\\site-packages\\sklearn\\metrics\\_classification.py:1272: UndefinedMetricWarning: Precision and F-score are ill-defined and being set to 0.0 in samples with no predicted labels. Use `zero_division` parameter to control this behavior.\n",
      "  _warn_prf(average, modifier, msg_start, len(result))\n"
     ]
    }
   ],
   "source": [
    "model.evaluate([xvalid_count_label_object.todense(), X_test],test_labels)\n",
    "predicted = model.predict([xvalid_count_label_object.todense(), X_test])\n",
    "print(classification_report(test_labels, predicted.round()))\n",
    "# print(multilabel_confusion_matrix(test_labels, predicted.round()))\n",
    "labels = [\"0\",\"1\",\"2\",\"3\",\"4\"]\n",
    "conf_mat_dict={}\n",
    "for label_col in range(len(labels)):\n",
    "    y_true_label = test_labels[:, label_col]\n",
    "    y_pred_label = predicted.round()[:, label_col]\n",
    "    conf_mat_dict[labels[label_col]] = confusion_matrix(y_pred=y_pred_label, y_true=y_true_label)\n",
    "for label, matrix in conf_mat_dict.items():\n",
    "    print(\"Confusion matrix for label {}:\".format(label))\n",
    "    print(matrix)"
   ]
  },
  {
   "cell_type": "markdown",
   "metadata": {},
   "source": [
    "# Naive Bayes - Base Model"
   ]
  },
  {
   "cell_type": "markdown",
   "metadata": {},
   "source": [
    "## Hate Model"
   ]
  },
  {
   "cell_type": "code",
   "execution_count": 206,
   "metadata": {},
   "outputs": [],
   "source": [
    "#subset required fields\n",
    "df_final3 = df_train_test[['Semi_cleaned_text','Sarcasm_label','Hate_label','Category']]"
   ]
  },
  {
   "cell_type": "code",
   "execution_count": 207,
   "metadata": {},
   "outputs": [],
   "source": [
    "# strartify Split data into train and test \n",
    "def train_test_stratify_split(X,Y):\n",
    "    from sklearn.model_selection import train_test_split\n",
    "    train_x, test_x, train_y, test_y = train_test_split(X, Y,stratify=Y, test_size=0.2, random_state=42)\n",
    "    return train_x, test_x, train_y, test_y\n",
    "\n",
    "train_x, test_x, train_y, test_y=train_test_stratify_split(df_final3['Semi_cleaned_text'],df_final3['Hate_label'])"
   ]
  },
  {
   "cell_type": "code",
   "execution_count": 208,
   "metadata": {},
   "outputs": [],
   "source": [
    "#encoding a column\n",
    "def col_encoding(to_fit,to_transform):\n",
    "    from sklearn.preprocessing import LabelEncoder\n",
    "    encoder = LabelEncoder()\n",
    "    to_fit = encoder.fit_transform(to_fit)\n",
    "    to_transform = encoder.transform(to_transform)\n",
    "    classes=encoder.inverse_transform(np.unique(to_fit))\n",
    "    return to_fit,to_transform,classes\n",
    "train_y,test_y,classes=col_encoding(train_y,test_y)"
   ]
  },
  {
   "cell_type": "code",
   "execution_count": 209,
   "metadata": {},
   "outputs": [],
   "source": [
    "#create TF-IDF vectorizer with n-gram\n",
    "def tfidf_ngram(df_col,X,Y):\n",
    "    from sklearn.feature_extraction.text import TfidfVectorizer\n",
    "    tfidf_vect = TfidfVectorizer(analyzer='word', token_pattern=r'\\w{1,}',ngram_range=(2,3))#, max_features=5000)\n",
    "    tfidf_vect.fit(df_col)\n",
    "    xtrain_tfidf =  tfidf_vect.transform(X)\n",
    "    xtest_tfidf =  tfidf_vect.transform(Y)\n",
    "    return xtrain_tfidf,xtest_tfidf,tfidf_vect"
   ]
  },
  {
   "cell_type": "code",
   "execution_count": 210,
   "metadata": {},
   "outputs": [],
   "source": [
    "xtrain_tfidf,xtest_tfidf,tfidf_vect=tfidf_ngram(df_final3['Semi_cleaned_text'],train_x,test_x)"
   ]
  },
  {
   "cell_type": "code",
   "execution_count": 211,
   "metadata": {},
   "outputs": [],
   "source": [
    "#metrics function for models\n",
    "from sklearn.metrics import accuracy_score, precision_score, recall_score,roc_auc_score\n",
    "from sklearn import metrics\n",
    "from sklearn.metrics import confusion_matrix, classification_report  \n",
    "import seaborn as sns\n",
    "import matplotlib.pyplot as plt\n",
    "def model(classifier, train_features, test_features):\n",
    "    #if classifier in (MultinomialNB,RandomForestClassifier,kn_clf):\n",
    "    predict_y = classifier.predict(test_features)        \n",
    "    #else:\n",
    "    #    predict_y = classifier.predict_classes(test_features)\n",
    "    predicted_prob = classifier.predict_proba(test_features)\n",
    "    y_test_array = pd.get_dummies(test_y, drop_first=False).values\n",
    "    print('classification_report\\n',classification_report(test_y, predict_y))\n",
    "    print('Confusion Matrix')\n",
    "    cm=confusion_matrix(test_y, predict_y)    \n",
    "#     print('AUC: {:.3f}\\n'.format(roc_auc_score(test_y, predicted_prob,multi_class=\"ovr\")))\n",
    "    fig, ax = plt.subplots(nrows=1, ncols=3,figsize=(30,5))\n",
    "    \n",
    "    ## Plot roc\n",
    "    for i in range(len(classes)):\n",
    "        fpr, tpr, thresholds = metrics.roc_curve(y_test_array[:,i],  \n",
    "                               predicted_prob[:,i])\n",
    "        ax[0].plot(fpr, tpr, lw=3, \n",
    "                  label='{0} (area={1:0.2f})'.format(classes[i], \n",
    "                                  metrics.auc(fpr, tpr))\n",
    "                   )\n",
    "    ax[0].plot([0,1], [0,1], color='navy', lw=3, linestyle='--')\n",
    "    ax[0].set(xlim=[-0.05,1.0], ylim=[0.0,1.05], \n",
    "              xlabel='False Positive Rate', \n",
    "              ylabel=\"True Positive Rate (Recall)\", \n",
    "              title=\"Receiver operating characteristic\")\n",
    "    ax[0].legend(loc=\"lower right\")\n",
    "    ax[0].grid(True)\n",
    "\n",
    "    ## Plot precision-recall curve\n",
    "    for i in range(len(classes)):\n",
    "        precision, recall, thresholds = metrics.precision_recall_curve(\n",
    "                     y_test_array[:,i], predicted_prob[:,i])\n",
    "        ax[1].plot(recall, precision, lw=3, \n",
    "                   label='{0} (area={1:0.2f})'.format(classes[i], \n",
    "                                      metrics.auc(recall, precision))\n",
    "                  )\n",
    "    ax[1].set(xlim=[0.0,1.05], ylim=[0.0,1.05], xlabel='Recall', \n",
    "              ylabel=\"Precision\", title=\"Precision-Recall curve\")\n",
    "    ax[1].legend(loc=\"best\")\n",
    "    ax[1].grid(True)\n",
    "    \n",
    "    \n",
    "    sns.heatmap(cm, annot=True, fmt='d', ax=ax[2], cmap=plt.cm.Blues, \n",
    "            cbar=False)\n",
    "    ax[2].set(xlabel=\"Pred\", ylabel=\"True\", xticklabels=classes,\n",
    "       yticklabels=classes, title=\"Confusion matrix\")\n",
    "    plt.yticks(rotation=0)\n",
    "    plt.xticks(rotation=90)\n",
    "    plt.show()\n",
    "    return"
   ]
  },
  {
   "cell_type": "code",
   "execution_count": 214,
   "metadata": {},
   "outputs": [
    {
     "name": "stdout",
     "output_type": "stream",
     "text": [
      "Best Score:  0.6362359550561798\n",
      "Best Params:  {'alpha': 1.5, 'fit_prior': True}\n"
     ]
    }
   ],
   "source": [
    "from sklearn.naive_bayes import MultinomialNB\n",
    "from sklearn.model_selection import GridSearchCV\n",
    "grid_params = {\n",
    "  'alpha': np.linspace(0.5, 1.5, 6),\n",
    "  'fit_prior': [True, False], \n",
    "}\n",
    "clf = GridSearchCV(MultinomialNB(), grid_params)\n",
    "clf.fit(xtrain_tfidf, train_y)\n",
    "print(\"Best Score: \", clf.best_score_)\n",
    "print(\"Best Params: \", clf.best_params_)"
   ]
  },
  {
   "cell_type": "code",
   "execution_count": 215,
   "metadata": {},
   "outputs": [
    {
     "data": {
      "text/plain": [
       "MultinomialNB(alpha=1.5, class_prior=None, fit_prior=True)"
      ]
     },
     "execution_count": 215,
     "metadata": {},
     "output_type": "execute_result"
    }
   ],
   "source": [
    "# Naive Bayes: N-Gram level TF-IDF and word2vec\n",
    "from sklearn.naive_bayes import MultinomialNB\n",
    "MultinomialNB=MultinomialNB(alpha= 1.5, fit_prior= True)\n",
    "MultinomialNB.fit(xtrain_tfidf,train_y)"
   ]
  },
  {
   "cell_type": "code",
   "execution_count": 216,
   "metadata": {
    "scrolled": true
   },
   "outputs": [
    {
     "name": "stdout",
     "output_type": "stream",
     "text": [
      "classification_report\n",
      "               precision    recall  f1-score   support\n",
      "\n",
      "           0       0.64      0.97      0.77       574\n",
      "           1       0.24      0.02      0.04       317\n",
      "\n",
      "    accuracy                           0.63       891\n",
      "   macro avg       0.44      0.49      0.40       891\n",
      "weighted avg       0.50      0.63      0.51       891\n",
      "\n",
      "Confusion Matrix\n"
     ]
    },
    {
     "data": {
      "image/png": "[encoded data removed]",
      "text/plain": [
       "<Figure size 2160x360 with 3 Axes>"
      ]
     },
     "metadata": {
      "needs_background": "light"
     },
     "output_type": "display_data"
    }
   ],
   "source": [
    "model(MultinomialNB, xtrain_tfidf, xtest_tfidf)"
   ]
  },
  {
   "cell_type": "code",
   "execution_count": 217,
   "metadata": {},
   "outputs": [],
   "source": [
    "##  Naive Bayes gave 0.51 F1-score which is very less. "
   ]
  },
  {
   "cell_type": "markdown",
   "metadata": {},
   "source": [
    "## Sarcasm Label"
   ]
  },
  {
   "cell_type": "code",
   "execution_count": 219,
   "metadata": {},
   "outputs": [
    {
     "name": "stdout",
     "output_type": "stream",
     "text": [
      "Best Score:  0.6941011235955056\n",
      "Best Params:  {'alpha': 0.7, 'fit_prior': True}\n",
      "classification_report\n",
      "               precision    recall  f1-score   support\n",
      "\n",
      "           0       0.83      0.02      0.04       273\n",
      "           1       0.70      1.00      0.82       618\n",
      "\n",
      "    accuracy                           0.70       891\n",
      "   macro avg       0.77      0.51      0.43       891\n",
      "weighted avg       0.74      0.70      0.58       891\n",
      "\n",
      "Confusion Matrix\n"
     ]
    },
    {
     "data": {
      "image/png": "[encoded data removed]",
      "text/plain": [
       "<Figure size 2160x360 with 3 Axes>"
      ]
     },
     "metadata": {
      "needs_background": "light"
     },
     "output_type": "display_data"
    }
   ],
   "source": [
    "train_x, test_x, train_y, test_y=train_test_stratify_split(df_final3['Semi_cleaned_text'],df_final3['Sarcasm_label'])\n",
    "train_y,test_y,classes=col_encoding(train_y,test_y)\n",
    "xtrain_tfidf,xtest_tfidf,tfidf_vect=tfidf_ngram(df_final3['Semi_cleaned_text'],train_x,test_x)\n",
    "from sklearn.naive_bayes import MultinomialNB\n",
    "from sklearn.model_selection import GridSearchCV\n",
    "grid_params = {\n",
    "  'alpha': np.linspace(0.5, 1.5, 6),\n",
    "  'fit_prior': [True, False], \n",
    "}\n",
    "clf = GridSearchCV(MultinomialNB(), grid_params)\n",
    "clf.fit(xtrain_tfidf, train_y)\n",
    "print(\"Best Score: \", clf.best_score_)\n",
    "print(\"Best Params: \", clf.best_params_)\n",
    "# Naive Bayes: N-Gram level TF-IDF and word2vec\n",
    "from sklearn.naive_bayes import MultinomialNB\n",
    "MultinomialNB=MultinomialNB(alpha= 1.5, fit_prior= True)\n",
    "MultinomialNB.fit(xtrain_tfidf,train_y)\n",
    "model(MultinomialNB, xtrain_tfidf, xtest_tfidf)"
   ]
  },
  {
   "cell_type": "code",
   "execution_count": null,
   "metadata": {},
   "outputs": [],
   "source": []
  }
 ],
 "metadata": {
  "kernelspec": {
   "display_name": "Python 3",
   "language": "python",
   "name": "python3"
  },
  "language_info": {
   "codemirror_mode": {
    "name": "ipython",
    "version": 3
   },
   "file_extension": ".py",
   "mimetype": "text/x-python",
   "name": "python",
   "nbconvert_exporter": "python",
   "pygments_lexer": "ipython3",
   "version": "3.7.5"
  }
 },
 "nbformat": 4,
 "nbformat_minor": 4
}
